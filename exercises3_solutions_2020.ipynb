{
  "nbformat": 4,
  "nbformat_minor": 0,
  "metadata": {
    "colab": {
      "name": "exercises3_solutions_2020.ipynb",
      "provenance": [],
      "collapsed_sections": []
    },
    "kernelspec": {
      "name": "python3",
      "display_name": "Python 3"
    }
  },
  "cells": [
    {
      "cell_type": "markdown",
      "metadata": {
        "id": "c5M3FWWv4_Gy",
        "colab_type": "text"
      },
      "source": [
        "# Exercises to Lecture 3: Introduction to Python 3.6 \n",
        "By Dr. Anders S. Christensen\n",
        "`anders.christensen @ unibas.ch`\n"
      ]
    },
    {
      "cell_type": "markdown",
      "metadata": {
        "id": "uqr4BO3daWDM",
        "colab_type": "text"
      },
      "source": [
        "## Exercise 3.1: If/Else statments\n",
        "Yesterday, we used if and else statments to check conditions.\n",
        "\n",
        "For example, we can check if a variable `a` is greater 10:"
      ]
    },
    {
      "cell_type": "code",
      "metadata": {
        "id": "KLJihM7OwzuI",
        "colab_type": "code",
        "colab": {
          "base_uri": "https://localhost:8080/",
          "height": 35
        },
        "outputId": "9b8f61b4-c6b8-4909-dcb6-b71f667574ea"
      },
      "source": [
        "a = 100\n",
        "\n",
        "if a > 10:\n",
        "  print(\"a is greater than 10\")"
      ],
      "execution_count": 1,
      "outputs": [
        {
          "output_type": "stream",
          "text": [
            "a is greater than 10\n"
          ],
          "name": "stdout"
        }
      ]
    },
    {
      "cell_type": "markdown",
      "metadata": {
        "id": "XTLvKr6ktlWs",
        "colab_type": "text"
      },
      "source": [
        "### Question 3.1.1:"
      ]
    },
    {
      "cell_type": "markdown",
      "metadata": {
        "id": "RSHNLwhstolg",
        "colab_type": "text"
      },
      "source": [
        "In this exercise, write a function named for example `check_number(n)` which determines whether a number is negative, zero, or positive, and prints the answer.\n",
        "\n",
        "Verify with a couple of cases, that the code yields the correct \n",
        "\n",
        "\n",
        "\n"
      ]
    },
    {
      "cell_type": "code",
      "metadata": {
        "id": "tPzj356TaWHO",
        "colab_type": "code",
        "colab": {
          "base_uri": "https://localhost:8080/",
          "height": 106
        },
        "outputId": "ab010a8d-a6ae-419f-f794-415aed6f4239"
      },
      "source": [
        "def check_number(n):\n",
        "\n",
        "  if n < 0:\n",
        "    print(\"negative\")\n",
        "  elif n == 0:\n",
        "    print(\"zero\")\n",
        "  elif n > 0:\n",
        "    print(\"positive\")\n",
        "  else:\n",
        "    print(\"this shouldn't happen!\")\n",
        "\n",
        "# Check the output of the tests below to ensure that your code works\n",
        "check_number(-1000.0)   # Code should print 'negative'\n",
        "check_number(-69.0)     # Code should print 'negative'\n",
        "check_number(0.0)       # Code should print 'zero'\n",
        "check_number(1.0)       # Code should print 'positive'\n",
        "check_number(420.0)     # Code should print 'positive'"
      ],
      "execution_count": 5,
      "outputs": [
        {
          "output_type": "stream",
          "text": [
            "negative\n",
            "negative\n",
            "zero\n",
            "positive\n",
            "positive\n"
          ],
          "name": "stdout"
        }
      ]
    },
    {
      "cell_type": "markdown",
      "metadata": {
        "id": "OoANtRxkaWKm",
        "colab_type": "text"
      },
      "source": [
        "## Exercise 3.2: When to stop a loop?"
      ]
    },
    {
      "cell_type": "markdown",
      "metadata": {
        "id": "-0siAAL0sR0P",
        "colab_type": "text"
      },
      "source": [
        "Sometimes `for`-loops can be terminated before they run to the end of `range()`.\n",
        "\n",
        "In this example we wish to print all numbers where the square is smaller than 42.\n",
        "\n",
        "However, we might not know when to stop the `for` loop beforehand. In this case, we can use `if`/`else` to check when the condition is met, and when it is we can use the `break` statement to stop the `for` loop."
      ]
    },
    {
      "cell_type": "code",
      "metadata": {
        "id": "B999_WtlsR7Y",
        "colab_type": "code",
        "colab": {
          "base_uri": "https://localhost:8080/",
          "height": 141
        },
        "outputId": "46c21d21-aa0a-4eb6-fc6a-eebf69a7b54b"
      },
      "source": [
        "# Print all integers that where the square is smaller than 42:\n",
        "\n",
        "# Try all numbers up to 100\n",
        "for i in range(100):\n",
        "\n",
        "  # Check if the square is small enough\n",
        "  if i**2 < 42:\n",
        "    print(i, i**2)\n",
        "\n",
        "  # Stop the loop if the test is False\n",
        "  else:\n",
        "    break"
      ],
      "execution_count": 6,
      "outputs": [
        {
          "output_type": "stream",
          "text": [
            "0 0\n",
            "1 1\n",
            "2 4\n",
            "3 9\n",
            "4 16\n",
            "5 25\n",
            "6 36\n"
          ],
          "name": "stdout"
        }
      ]
    },
    {
      "cell_type": "markdown",
      "metadata": {
        "id": "xs0r3ik8qv4F",
        "colab_type": "text"
      },
      "source": [
        "The so-called \"Basel problem\" in mathematics shows that the reciprocal of the square numbers form a convergent series:\n",
        "\n",
        "\\begin{equation}\n",
        "x=\\sum_{n=1}^\\infty \\frac{1}{n^2}  = \\frac{1}{1^2} + \\frac{1}{2^2} + \\frac{1}{3^2} \\dots = \\frac{\\pi^2}{6}\n",
        "\\end{equation}\n",
        "\n",
        "The problem is named after Leonhard Euler who lived here in in Basel and worked on the problem.\n",
        "\n",
        "\n",
        "The code below uses 10,000 iterations of a `for` loop to calculate the result."
      ]
    },
    {
      "cell_type": "code",
      "metadata": {
        "id": "0tLzFKtrxwou",
        "colab_type": "code",
        "colab": {
          "base_uri": "https://localhost:8080/",
          "height": 35
        },
        "outputId": "16e21628-2c94-4e0f-cc48-872dcf1b29db"
      },
      "source": [
        "x = 0\n",
        "\n",
        "# Do 10000 iterations\n",
        "for i in range(1, 10000):\n",
        "\n",
        "  # Calculate 1/n^2 and add it to x\n",
        "  x = x + 1/i**2\n",
        "\n",
        "print(x)"
      ],
      "execution_count": 7,
      "outputs": [
        {
          "output_type": "stream",
          "text": [
            "1.6448340618480652\n"
          ],
          "name": "stdout"
        }
      ]
    },
    {
      "cell_type": "markdown",
      "metadata": {
        "id": "pgAX-BHKvhVT",
        "colab_type": "text"
      },
      "source": [
        "### Question 3.2.1:\n",
        "\n",
        "\n",
        "\n",
        "As part of his proof, Euler calculated many terms of this series by hand in order to verify his work.\n",
        "\n",
        "The sum of the series is approximately $1.645$. To achieve this accuracy, the numerical calculation of the sum can be stopped when $\\frac{1}{n^2} < 0.001$, long before 10000 terms as in the above example.\n",
        "\n",
        "*    In this question, rewrite the above code for the Basel problem, such that the calculation stops when the $\\frac{1}{n^2}$ terms are smaller than $0.001$. \n",
        "\n",
        "*     **Hint:** Use a `break` statement to stop the for loop."
      ]
    },
    {
      "cell_type": "code",
      "metadata": {
        "id": "XRyRBFhJaWOG",
        "colab_type": "code",
        "colab": {
          "base_uri": "https://localhost:8080/",
          "height": 604
        },
        "outputId": "a6fd0a08-51e8-430f-b69d-bfc1697394ff"
      },
      "source": [
        "x = 0\n",
        "\n",
        "for i in range(1, 10000):\n",
        "\n",
        "  # The value of each term in the series\n",
        "  contribution = 1/i**2\n",
        "\n",
        "  # Add the term to the sum\n",
        "  x = x + contribution\n",
        "\n",
        "  # Print step number and contribution\n",
        "  print(i, contribution)\n",
        "\n",
        "  # Check if contribution is sufficiently small to break\n",
        "  if contribution < 0.001:\n",
        "    break\n",
        "\n",
        "print(x)\n",
        "\n",
        "  "
      ],
      "execution_count": 12,
      "outputs": [
        {
          "output_type": "stream",
          "text": [
            "1 1.0\n",
            "2 0.25\n",
            "3 0.1111111111111111\n",
            "4 0.0625\n",
            "5 0.04\n",
            "6 0.027777777777777776\n",
            "7 0.02040816326530612\n",
            "8 0.015625\n",
            "9 0.012345679012345678\n",
            "10 0.01\n",
            "11 0.008264462809917356\n",
            "12 0.006944444444444444\n",
            "13 0.005917159763313609\n",
            "14 0.00510204081632653\n",
            "15 0.0044444444444444444\n",
            "16 0.00390625\n",
            "17 0.0034602076124567475\n",
            "18 0.0030864197530864196\n",
            "19 0.002770083102493075\n",
            "20 0.0025\n",
            "21 0.0022675736961451248\n",
            "22 0.002066115702479339\n",
            "23 0.001890359168241966\n",
            "24 0.001736111111111111\n",
            "25 0.0016\n",
            "26 0.0014792899408284023\n",
            "27 0.0013717421124828531\n",
            "28 0.0012755102040816326\n",
            "29 0.0011890606420927466\n",
            "30 0.0011111111111111111\n",
            "31 0.001040582726326743\n",
            "32 0.0009765625\n",
            "1.6141672628279242\n"
          ],
          "name": "stdout"
        }
      ]
    },
    {
      "cell_type": "markdown",
      "metadata": {
        "id": "lvN7vzKPaWRV",
        "colab_type": "text"
      },
      "source": [
        "## Exercise 3.3: Matrices and Vectors with Numpy\n",
        "\n",
        "In this exercises you'll write some code contatining matrix and vector operations with numpy."
      ]
    },
    {
      "cell_type": "markdown",
      "metadata": {
        "id": "iTaC1T_m3IX8",
        "colab_type": "text"
      },
      "source": [
        "### Question 3.3.1: Matrix-Matrix Product\n",
        "\n",
        "In the code block below, you are give two matrices A ($3\\times4$ matrix), and B ($4\\times 4$ matrix)."
      ]
    },
    {
      "cell_type": "code",
      "metadata": {
        "id": "5X4eTslFgY3I",
        "colab_type": "code",
        "colab": {
          "base_uri": "https://localhost:8080/",
          "height": 141
        },
        "outputId": "36054830-735c-41c7-9496-3bf8576dba8c"
      },
      "source": [
        "import numpy as np\n",
        "\n",
        "np.random.seed(2089)\n",
        "\n",
        "A = np.random.random(size=(3,4))\n",
        "B = np.random.random(size=(4,4))\n",
        "\n",
        "print(A)\n",
        "print(B)"
      ],
      "execution_count": 13,
      "outputs": [
        {
          "output_type": "stream",
          "text": [
            "[[0.27643555 0.01508359 0.15503277 0.03788909]\n",
            " [0.85084514 0.43484643 0.37326361 0.66656812]\n",
            " [0.446939   0.84514875 0.15845176 0.20942867]]\n",
            "[[0.69338912 0.92076566 0.96558827 0.52373193]\n",
            " [0.53668218 0.41861072 0.8096089  0.61153309]\n",
            " [0.98087461 0.18415275 0.28496972 0.17557867]\n",
            " [0.3359122  0.07466268 0.12196524 0.01539081]]\n"
          ],
          "name": "stdout"
        }
      ]
    },
    {
      "cell_type": "markdown",
      "metadata": {
        "id": "BvWIrDjuhHjN",
        "colab_type": "text"
      },
      "source": [
        "Use numpy's `np.matmul()` function to calculate the matrix product `C`:\n",
        "\n",
        "\\begin{equation}\n",
        "\\mathbf{C} = \\mathbf{A}\\mathbf{B}\n",
        "\\end{equation}\n",
        "\n",
        "**Hint:** The matrix product is not the *element-wise* product!"
      ]
    },
    {
      "cell_type": "code",
      "metadata": {
        "id": "rVDdVRJ7aWVC",
        "colab_type": "code",
        "colab": {
          "base_uri": "https://localhost:8080/",
          "height": 70
        },
        "outputId": "9592c304-74b6-4b2a-8dcc-e464b3c56acc"
      },
      "source": [
        "# Calculate the matrix product\n",
        "\n",
        "C = np.matmul(A, B)\n",
        "\n",
        "# OR\n",
        "\n",
        "C = A @ B\n",
        "\n",
        "print(C)"
      ],
      "execution_count": 15,
      "outputs": [
        {
          "output_type": "stream",
          "text": [
            "[[0.36456762 0.29222512 0.32793553 0.18180583]\n",
            " [1.41337425 1.08396564 1.36128859 0.7873339 ]\n",
            " [0.98924986 0.81013024 1.18649597 0.78195668]]\n"
          ],
          "name": "stdout"
        }
      ]
    },
    {
      "cell_type": "markdown",
      "metadata": {
        "id": "-FUmvF4Vhx_H",
        "colab_type": "text"
      },
      "source": [
        "Also answer: what are the dimensions of `C`? **3x4**\n"
      ]
    },
    {
      "cell_type": "markdown",
      "metadata": {
        "id": "u16W5JLV3K05",
        "colab_type": "text"
      },
      "source": [
        "### Question 3.3.2: Dot products\n",
        "Here you are give two vectors (i.e. 1D Numpy arrays), `p` and `q`:\n",
        "\n"
      ]
    },
    {
      "cell_type": "code",
      "metadata": {
        "id": "W-tJQQBojDO4",
        "colab_type": "code",
        "colab": {
          "base_uri": "https://localhost:8080/",
          "height": 88
        },
        "outputId": "22772458-e16b-4c85-bc0e-ab51ce776b2c"
      },
      "source": [
        "np.random.seed(3001)\n",
        "\n",
        "p = np.random.random(size=(10))\n",
        "q = np.random.random(size=(10))\n",
        "\n",
        "print(p)\n",
        "print(q)"
      ],
      "execution_count": 16,
      "outputs": [
        {
          "output_type": "stream",
          "text": [
            "[0.25680088 0.03751904 0.96212176 0.45024744 0.84860471 0.0059018\n",
            " 0.65601696 0.088925   0.2746181  0.14881909]\n",
            "[0.93091507 0.2473442  0.61201234 0.39467275 0.31056861 0.63544632\n",
            " 0.09354759 0.16572425 0.27644798 0.02436491]\n"
          ],
          "name": "stdout"
        }
      ]
    },
    {
      "cell_type": "markdown",
      "metadata": {
        "colab_type": "text",
        "id": "FPXwcBcpjRZy"
      },
      "source": [
        "Use a Numpy function to calculate the dot product `k`:\n",
        "\n",
        "\\begin{equation}\n",
        "k = \\mathbf{p} \\cdot \\mathbf{q}\n",
        "\\end{equation}\n",
        "\n",
        "**Hint:** The dot product is not the *element-wise* product!"
      ]
    },
    {
      "cell_type": "code",
      "metadata": {
        "id": "KQG6joGi3K5y",
        "colab_type": "code",
        "colab": {
          "base_uri": "https://localhost:8080/",
          "height": 35
        },
        "outputId": "a190b5b1-e1f1-4bfb-858c-a86d5e253b8a"
      },
      "source": [
        "# Calculate the dot product, k\n",
        "\n",
        "k = np.dot(p, q)\n",
        "\n",
        "print(k)"
      ],
      "execution_count": 17,
      "outputs": [
        {
          "output_type": "stream",
          "text": [
            "1.437820387314264\n"
          ],
          "name": "stdout"
        }
      ]
    },
    {
      "cell_type": "markdown",
      "metadata": {
        "colab_type": "text",
        "id": "SXMpuoQxiYyJ"
      },
      "source": [
        "Also answer: Is `k` a scalar (a single number), a vector, or a matrix? `k` is a scalar."
      ]
    },
    {
      "cell_type": "markdown",
      "metadata": {
        "id": "jVIK_0T0aWZB",
        "colab_type": "text"
      },
      "source": [
        "## Exercise 3.4: Plotting a histogram\n",
        "The code block below makes some \"fake\" data for the height of 100 people in units of [cm].\n",
        "\n",
        "For now, you will use this to plot a histogram of the data. Before you start Question 3.4.1, make sure to run the code block below and inspect the output (which is a list named `heights` with the heights of 100 people)."
      ]
    },
    {
      "cell_type": "code",
      "metadata": {
        "id": "h2AecmSkaWdF",
        "colab_type": "code",
        "colab": {
          "base_uri": "https://localhost:8080/",
          "height": 373
        },
        "outputId": "a6c89080-6cf4-439d-a9eb-61b7ae0665b9"
      },
      "source": [
        "import numpy as np\n",
        "np.random.seed(2021)\n",
        "\n",
        "heights = np.random.normal(loc=170, scale=10, size=100)\n",
        "print(heights)"
      ],
      "execution_count": 18,
      "outputs": [
        {
          "output_type": "stream",
          "text": [
            "[184.88609053 176.76010871 165.81548631 161.93479187 175.55875832\n",
            " 162.94495714 181.30858262 176.45001837 171.06413743 174.2215483\n",
            " 171.24206845 161.62046539 174.09015705 171.02751219 150.92277609\n",
            " 181.00224305 155.97674939 167.74918733 156.63794034 173.03721514\n",
            " 162.79841165 195.44914601 183.1729112  170.72630302 167.43891862\n",
            " 171.38010408 181.47235985 183.76260758 165.27816033 175.24084896\n",
            " 184.85107926 184.82432249 177.28130509 166.10351917 172.78893759\n",
            " 170.519002   159.55256318 168.38492466 142.06469427 173.61648007\n",
            " 172.40107579 174.77812285 172.08851935 179.17911635 155.88222156\n",
            " 182.24235722 164.54342282 179.06748053 160.17382764 163.66838108\n",
            " 178.2552024  157.15503144 166.52691216 159.22239253 179.72574949\n",
            " 174.12191165 168.67913957 163.26649082 182.22221715 160.73586579\n",
            " 184.24993801 168.75210065 177.0549192  177.19547504 171.41463935\n",
            " 163.45551517 163.2789583  178.7036849  180.03245273 166.33550173\n",
            " 181.28051682 177.92583802 152.49157607 161.91130552 155.87398187\n",
            " 161.96990301 177.9828047  187.55996222 169.24495802 174.20176818\n",
            " 171.56556065 169.4313872  164.6176642  179.01387327 172.24944205\n",
            " 182.77788182 176.29268598 173.61891216 206.38725858 157.98779223\n",
            " 156.6996715  182.61033357 163.51874447 192.45300018 159.87606085\n",
            " 168.74061301 165.67583572 174.25937197 177.56636033 160.05145941]\n"
          ],
          "name": "stdout"
        }
      ]
    },
    {
      "cell_type": "markdown",
      "metadata": {
        "id": "PtC0zvOpcgHC",
        "colab_type": "text"
      },
      "source": [
        "### Questions 3.4.1:\n",
        "\n",
        "In order to plot a histogram, you can use the function `plt.hist(list)` to make a histogram with matplotlib.pyplot.\n",
        "\n",
        "It works similarly to the `plt.plot()` (lineplots) and `plt.scatter()` (scatterplots), which you have already encountered in these exercises.\n",
        "\n",
        "If you are unsure, use Google or consult the manual for `plt.hist()` here:\n",
        "https://matplotlib.org/3.1.1/gallery/statistics/hist.html\n"
      ]
    },
    {
      "cell_type": "code",
      "metadata": {
        "id": "POLUQyWgcgM_",
        "colab_type": "code",
        "colab": {
          "base_uri": "https://localhost:8080/",
          "height": 279
        },
        "outputId": "5093d131-9cc7-4e96-b3af-efd3d1bc4bbf"
      },
      "source": [
        "import matplotlib.pyplot as plt\n",
        "\n",
        "# Insert the code here to plot a histogram of the list 'heights'\n",
        "plt.hist(heights, color=\"red\") # Note: additional color keyword\n",
        "\n",
        "# Sample labels\n",
        "plt.xlabel(\"Height [cm]\")\n",
        "plt.ylabel(\"Occurrences #\")\n",
        "\n",
        "plt.show()"
      ],
      "execution_count": 21,
      "outputs": [
        {
          "output_type": "display_data",
          "data": {
            "image/png": "[encoded data removed]",
            "text/plain": [
              "<Figure size 432x288 with 1 Axes>"
            ]
          },
          "metadata": {
            "tags": [],
            "needs_background": "light"
          }
        }
      ]
    },
    {
      "cell_type": "markdown",
      "metadata": {
        "id": "ZRnUZkhhcgVN",
        "colab_type": "text"
      },
      "source": [
        "### Question 3.4.2: Making a better plot\n",
        "\n",
        "Similarly to Question 2.4.2 in the exercises from yesterday, add proper labels to the x- and y- axis to the histogram.\n",
        "\n",
        "***Go back to the code in Questions 3.4.1 and add labels to the plot***"
      ]
    },
    {
      "cell_type": "markdown",
      "metadata": {
        "id": "suplCKfo-B7s",
        "colab_type": "text"
      },
      "source": [
        "### Question 3.4.3: Changing colors\n",
        "\n",
        "Your supervisor/professor only wants red histograms!\n",
        "\n",
        "In this question, use Google, or other resources, to find out how to change the histogram from the default blue color to red color.\n",
        "\n",
        "***Go back to the code in Questions 3.4.1 and change the color to red***"
      ]
    },
    {
      "cell_type": "markdown",
      "metadata": {
        "id": "BlkpyJZXdDAB",
        "colab_type": "text"
      },
      "source": [
        "## Exercise 3.5: Matrix multiplication (harder)\n",
        "\n",
        "After doing this exercise, I hope you will appreciate NumPy and numpy arrays.\n",
        "\n",
        "In the example below, there are two random matrices defined, `A` and `B`.\n",
        "\n",
        "The matrix product \n",
        "\\begin{equation}\n",
        "\\mathbf{C} = \\mathbf{A}\\mathbf{B}\n",
        "\\end{equation}\n",
        "is calculated using the `np.matmul()` function:\n"
      ]
    },
    {
      "cell_type": "code",
      "metadata": {
        "id": "oxpqVTkAdDEL",
        "colab_type": "code",
        "colab": {
          "base_uri": "https://localhost:8080/",
          "height": 70
        },
        "outputId": "23395153-2bf1-4870-de20-6334a0d39927"
      },
      "source": [
        "import numpy as np\n",
        "np.random.seed(2021)\n",
        "\n",
        "A = np.random.random(size=(3,5))\n",
        "B = np.random.random(size=(5,4))\n",
        "\n",
        "C = np.matmul(A,B)\n",
        "\n",
        "print(C)"
      ],
      "execution_count": 23,
      "outputs": [
        {
          "output_type": "stream",
          "text": [
            "[[1.53849657 1.84097289 1.02377889 1.66341903]\n",
            " [1.33497702 1.73370231 0.7243805  1.49474161]\n",
            " [0.82711575 1.17116457 0.62390613 1.05523344]]\n"
          ],
          "name": "stdout"
        }
      ]
    },
    {
      "cell_type": "markdown",
      "metadata": {
        "id": "sqimjRE9dDH-",
        "colab_type": "text"
      },
      "source": [
        "### Question 3.5.1:\n",
        "Without NumPy, we would have to write our own code to calculate the matrix multiplication of `A` and `B`.\n",
        "\n",
        "For this, the formula is:\n",
        "\n",
        "\\begin{equation}\n",
        "C_{ik} = \\sum_j A_{ij}B_{jk}\n",
        "\\end{equation}\n",
        "\n",
        "In this question, you have to implement the above equation. That is, calculate the elements of `C` using this summation. \n",
        "\n",
        "Some things to consider:\n",
        "\n",
        "*   Use a triple loop over the indices $i$, $j$, and $k$\n",
        "*   What are the ranges for the indices?\n",
        "*   Use `np.zeros()` to initialize the `C` matrix\n",
        "\n",
        "Print the result and compare to the result in the previous code box to verify that you did it correctly."
      ]
    },
    {
      "cell_type": "code",
      "metadata": {
        "id": "vy-VSSmd4KHL",
        "colab_type": "code",
        "colab": {
          "base_uri": "https://localhost:8080/",
          "height": 124
        },
        "outputId": "a3b2cdaf-fb74-4f43-b17c-616402f0c353"
      },
      "source": [
        "# Initialize the array C of the correct size\n",
        "C = np.zeros((3,4))\n",
        "\n",
        "\n",
        "# From the sizes of A and B, the ranges for i, j, and k\n",
        "# must be 3, 5, and 4, respectively.\n",
        "\n",
        "\n",
        "# Code the matrix multiplication below yourself\n",
        "for i in range(3):\n",
        "  for j in range(5):\n",
        "    for k in range(4):\n",
        "      \n",
        "      C[i,k] = C[i,k] + A[i,j] * B[j,k]\n",
        "\n",
        "# Finally, print C\n",
        "print(C)\n",
        "\n",
        "# Compare with true answer:\n",
        "C_numpy = np.matmul(A, B)\n",
        "print(C - C_numpy)"
      ],
      "execution_count": 25,
      "outputs": [
        {
          "output_type": "stream",
          "text": [
            "[[1.53849657 1.84097289 1.02377889 1.66341903]\n",
            " [1.33497702 1.73370231 0.7243805  1.49474161]\n",
            " [0.82711575 1.17116457 0.62390613 1.05523344]]\n",
            "[[ 0.00000000e+00  0.00000000e+00  0.00000000e+00  0.00000000e+00]\n",
            " [ 0.00000000e+00  0.00000000e+00  0.00000000e+00  0.00000000e+00]\n",
            " [-1.11022302e-16  0.00000000e+00 -1.11022302e-16  0.00000000e+00]]\n"
          ],
          "name": "stdout"
        }
      ]
    }
  ]
}