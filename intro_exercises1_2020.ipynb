{
  "nbformat": 4,
  "nbformat_minor": 0,
  "metadata": {
    "colab": {
      "name": "exercises1_2020.ipynb",
      "provenance": [],
      "collapsed_sections": []
    },
    "kernelspec": {
      "name": "python3",
      "display_name": "Python 3"
    }
  },
  "cells": [
    {
      "cell_type": "markdown",
      "metadata": {
        "id": "F86uJt3eR2Cm",
        "colab_type": "text"
      },
      "source": [
        "# Exercises to Lecture 1: Introduction to Python 3.6 \n",
        "By Dr. Anders S. Christensen\n",
        "`anders.christensen @ unibas.ch`\n",
        "\n",
        "\n"
      ]
    },
    {
      "cell_type": "markdown",
      "metadata": {
        "id": "2uVQ0LOVT2Kn",
        "colab_type": "text"
      },
      "source": [
        "## Exercise 1.1: Basic math\n",
        "\n",
        "In the lecture we saw how Python code can be used to evaluate mathmatical expressions, for example $x = 42 \\cdot 5$:"
      ]
    },
    {
      "cell_type": "code",
      "metadata": {
        "id": "h9NcPnhjR2Rt",
        "colab_type": "code",
        "colab": {}
      },
      "source": [
        "x = 42 * 5\n",
        "print(x)"
      ],
      "execution_count": 0,
      "outputs": []
    },
    {
      "cell_type": "markdown",
      "metadata": {
        "id": "Fdfn9u_Nea4N",
        "colab_type": "text"
      },
      "source": [
        "### Question 1.1.1:\n",
        "Using Python code (similarly to the example above), what is the result of $x = 3.5^6$?"
      ]
    },
    {
      "cell_type": "code",
      "metadata": {
        "id": "XSzrqhMfea_2",
        "colab_type": "code",
        "colab": {}
      },
      "source": [
        "x = ?? # <-- change this line yourself\n",
        "print(x)"
      ],
      "execution_count": 0,
      "outputs": []
    },
    {
      "cell_type": "markdown",
      "metadata": {
        "id": "S9DsGHaDR2ZW",
        "colab_type": "text"
      },
      "source": [
        "## Exercise 1.2: For loop\n",
        "\n",
        "In this exercise we use `for`-loops to carry out summations.\n",
        "\n",
        "For example the following sum\n",
        "\\begin{equation}\n",
        "x = \\sum_{n=0}^{25} n\n",
        "\\end{equation}\n",
        "\n",
        "can be be calculated using the code below"
      ]
    },
    {
      "cell_type": "code",
      "metadata": {
        "id": "vxeev7Y9R2ib",
        "colab_type": "code",
        "colab": {}
      },
      "source": [
        "x = 0\n",
        "\n",
        "# Remember how range(i) goes from 0 to i-1!\n",
        "for n in range(26):\n",
        "    x = x + n\n",
        "  \n",
        "print(\"x is\", x)"
      ],
      "execution_count": 0,
      "outputs": []
    },
    {
      "cell_type": "markdown",
      "metadata": {
        "id": "qoKZ1_2IroUu",
        "colab_type": "text"
      },
      "source": [
        "\n",
        "### Question 1.2.1:\n",
        "In this exercise, write your own code below and to calculate the answer to the following summation:\n",
        "\n",
        "\\begin{equation}\n",
        "x = \\sum_{n=0}^{100} n^2\n",
        "\\end{equation}\n"
      ]
    },
    {
      "cell_type": "code",
      "metadata": {
        "id": "4FkKFAN2sfAz",
        "colab_type": "code",
        "colab": {}
      },
      "source": [
        "x = 0\n",
        "\n",
        "# Fill out the rest\n",
        "\n",
        "\n",
        "\n",
        "\n",
        "\n",
        "print(\"x is\", x)\n"
      ],
      "execution_count": 0,
      "outputs": []
    },
    {
      "cell_type": "markdown",
      "metadata": {
        "id": "AdvGy6LySN3W",
        "colab_type": "text"
      },
      "source": [
        "## Exercise 1.3: Debugging\n",
        "Someone wrote some bad code for you to print the square root of all numbers from $0$ to $9$.\n",
        "### Question 1.3.1:\n",
        "Several things are wrong in the code block below. Pay attention to the error message and fix the errors."
      ]
    },
    {
      "cell_type": "code",
      "metadata": {
        "id": "uoAaZM69SN9b",
        "colab_type": "code",
        "colab": {}
      },
      "source": [
        "import numpy as np\n",
        "\n",
        "# Print the square root of all numbers up to 9\n",
        "for i in range(10)\n",
        "print(np.sqrt(i))"
      ],
      "execution_count": 0,
      "outputs": []
    },
    {
      "cell_type": "markdown",
      "metadata": {
        "id": "LvjxyLpvSOFi",
        "colab_type": "text"
      },
      "source": [
        "# Exercise 1.4: NumPy functions\n",
        "\n",
        "In the lecture, we used the `np.exp()` function from NumPy to calculate the exponential function.\n",
        "\n",
        "For example, we can print the result of $\\exp\\left(2.0\\right)$ using this function:"
      ]
    },
    {
      "cell_type": "code",
      "metadata": {
        "id": "pTB3x4XJSOKU",
        "colab_type": "code",
        "colab": {}
      },
      "source": [
        "import numpy as np\n",
        "\n",
        "x = np.exp(2.0)\n",
        "\n",
        "print(x)"
      ],
      "execution_count": 0,
      "outputs": []
    },
    {
      "cell_type": "markdown",
      "metadata": {
        "id": "MG3mFnvgZgPF",
        "colab_type": "text"
      },
      "source": [
        "\n",
        "\n",
        "NumPy has a most other mathmatical function you can think of. \n",
        "You can find the documentation for many of these math routines here:\n",
        "\n",
        "https://docs.scipy.org/doc/numpy/reference/routines.math.html\n",
        "\n",
        "Before you answer the next question, take a look at the manual page in the link to see what is there."
      ]
    },
    {
      "cell_type": "markdown",
      "metadata": {
        "id": "kBXZ4hvQaCuz",
        "colab_type": "text"
      },
      "source": [
        "### Question 1.4.1:\n",
        "Most problems in programming are solved by Googling or looking in the manual.\n",
        "\n",
        "Find a routine from NumPy, and use it to calculate and print the value of $x = \\sin(2.0)$."
      ]
    },
    {
      "cell_type": "code",
      "metadata": {
        "id": "7dxXdrMYaFuY",
        "colab_type": "code",
        "colab": {}
      },
      "source": [
        "import numpy as np\n",
        "\n",
        "# Calculate sin of 2.0\n",
        "x = ??? #<-- change this line yourself\n",
        "\n",
        "print(x)"
      ],
      "execution_count": 0,
      "outputs": []
    },
    {
      "cell_type": "markdown",
      "metadata": {
        "id": "6hx0wkU9SORF",
        "colab_type": "text"
      },
      "source": [
        "# Exercise 1.5:  Double loop? (harder exercise)"
      ]
    },
    {
      "cell_type": "markdown",
      "metadata": {
        "id": "4EfkK8JDaE84",
        "colab_type": "text"
      },
      "source": [
        "In the lecture we had&mdash;not only single `for`-loops&mdash;but also double `for`-loops.\n",
        "\n",
        "For example a double sum of products\n",
        "\\begin{equation}\n",
        "n = \\sum_{x=0}^{5} \\sum_{y=0}^{5} \\left(x \\cdot y\\right)\n",
        "\\end{equation}\n",
        "Can be calculated using nested `for`-loops as demonstrated below\n",
        "\n"
      ]
    },
    {
      "cell_type": "code",
      "metadata": {
        "id": "NWXJus33SOWm",
        "colab_type": "code",
        "outputId": "f9d142ce-71fa-4fc0-a3cb-3b60b7a348ab",
        "colab": {
          "base_uri": "https://localhost:8080/",
          "height": 34
        }
      },
      "source": [
        "n = 0\n",
        "\n",
        "for x in range(5):\n",
        "  for y in range(5):\n",
        "    n = n + x * y\n",
        "\n",
        "print(\"n is\", n)"
      ],
      "execution_count": 0,
      "outputs": [
        {
          "output_type": "stream",
          "text": [
            "n is 100\n"
          ],
          "name": "stdout"
        }
      ]
    },
    {
      "cell_type": "markdown",
      "metadata": {
        "id": "V_-jNb-n4dG_",
        "colab_type": "text"
      },
      "source": [
        "### Question 1.5.1:\n",
        "In the code-box below, evaluate the following double sum and print the answer\n",
        "\n",
        "\\begin{equation}\n",
        "z = \\sum_{x=0}^{3} \\sum_{y=0}^{10} y^{x}\n",
        "\\end{equation}"
      ]
    },
    {
      "cell_type": "code",
      "metadata": {
        "id": "aDv3eMt04dTe",
        "colab_type": "code",
        "colab": {}
      },
      "source": [
        "# Do-it-yourself!\n",
        "\n",
        "\n",
        "\n",
        "\n",
        "\n",
        "\n",
        "\n",
        "\n"
      ],
      "execution_count": 0,
      "outputs": []
    }
  ]
}