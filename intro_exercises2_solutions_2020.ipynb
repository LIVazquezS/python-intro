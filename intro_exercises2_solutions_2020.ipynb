{
  "nbformat": 4,
  "nbformat_minor": 0,
  "metadata": {
    "colab": {
      "name": "intro_exercises2_solutions_2020.ipynb",
      "provenance": [],
      "collapsed_sections": []
    },
    "kernelspec": {
      "name": "python3",
      "display_name": "Python 3"
    }
  },
  "cells": [
    {
      "cell_type": "markdown",
      "metadata": {
        "id": "EiEOVsZx7XTs",
        "colab_type": "text"
      },
      "source": [
        "# Exercises to Lecture 2: Introduction to Python 3.6 \n",
        "By Dr. Anders S. Christensen\n",
        "`anders.christensen @ unibas.ch`\n"
      ]
    },
    {
      "cell_type": "markdown",
      "metadata": {
        "id": "yW74EMch6FwS",
        "colab_type": "text"
      },
      "source": [
        "## Exercise 2.1: define a function"
      ]
    },
    {
      "cell_type": "markdown",
      "metadata": {
        "id": "6DRXgy9n8Ewl",
        "colab_type": "text"
      },
      "source": [
        "One of the fundamental things we learned was how to define functions.\n",
        "\n",
        "For example, the function defined below `square(x)` calculates the square, $x^2$:"
      ]
    },
    {
      "cell_type": "code",
      "metadata": {
        "id": "1oWA4omv6F1e",
        "colab_type": "code",
        "colab": {
          "base_uri": "https://localhost:8080/",
          "height": 34
        },
        "outputId": "319311d5-2d4e-4c70-9b93-d86d488715ce"
      },
      "source": [
        "def square(x):\n",
        "  y = 2 * x**2\n",
        "  return y\n",
        "\n",
        "print(square(2))"
      ],
      "execution_count": 2,
      "outputs": [
        {
          "output_type": "stream",
          "text": [
            "8\n"
          ],
          "name": "stdout"
        }
      ]
    },
    {
      "cell_type": "markdown",
      "metadata": {
        "id": "rvKbienrXKiJ",
        "colab_type": "text"
      },
      "source": [
        "### Question 2.1.1:"
      ]
    },
    {
      "cell_type": "markdown",
      "metadata": {
        "id": "RRdc88VAXlBG",
        "colab_type": "text"
      },
      "source": [
        "Similarly to the above code, make a function called. for example, `poly(x)` to calculate the following polynomial:\n",
        "\\begin{equation}\n",
        "p\\left( x \\right) = 5 x^2 - 4x + 1\n",
        "\\end{equation}\n",
        "\n",
        "Lastly, print the value of $p\\left( 5 \\right)$"
      ]
    },
    {
      "cell_type": "code",
      "metadata": {
        "id": "djDTi6hOXKx8",
        "colab_type": "code",
        "colab": {
          "base_uri": "https://localhost:8080/",
          "height": 34
        },
        "outputId": "0298b80a-216b-4b61-bd5c-078eb622a1ee"
      },
      "source": [
        "def poly(x):\n",
        "\n",
        "  # Fill out the rest of the function yourself!\n",
        "  p = 5* x**2  - 4*x + 1\n",
        "\n",
        "  return p\n",
        "  \n",
        "\n",
        "# Print the value for x=5\n",
        "print(poly(5))"
      ],
      "execution_count": 3,
      "outputs": [
        {
          "output_type": "stream",
          "text": [
            "106\n"
          ],
          "name": "stdout"
        }
      ]
    },
    {
      "cell_type": "markdown",
      "metadata": {
        "id": "QXZdW0QO6F5p",
        "colab_type": "text"
      },
      "source": [
        "## Exercise 2.2: Loop within function"
      ]
    },
    {
      "cell_type": "markdown",
      "metadata": {
        "id": "AXZCtaiWRnQe",
        "colab_type": "text"
      },
      "source": [
        "The code below implements the product of all numbers up to n, i.e. the factorial function \"$!$\"\n",
        "\n",
        "\\begin{equation}\n",
        "f(n) = n! = \\prod_{i=1}^n i = 1 \\cdot 2 \\cdot \\quad  ... \\quad \\cdot (n -1) \\cdot n\n",
        "\\end{equation}\n",
        "\n",
        "As an example, the code to calculate $5!$ is shown here:"
      ]
    },
    {
      "cell_type": "code",
      "metadata": {
        "id": "pBd8GDNI6F-I",
        "colab_type": "code",
        "colab": {
          "base_uri": "https://localhost:8080/",
          "height": 34
        },
        "outputId": "d5b555e8-20d0-4e5d-f20b-3857fe7d5b2f"
      },
      "source": [
        "n = 5\n",
        "\n",
        "f = 1\n",
        "for i in range(1,n+1):\n",
        "  f =  f * i\n",
        "\n",
        "print(\"Factorial\", n, \"is\", f)"
      ],
      "execution_count": 4,
      "outputs": [
        {
          "output_type": "stream",
          "text": [
            "Factorial 5 is 120\n"
          ],
          "name": "stdout"
        }
      ]
    },
    {
      "cell_type": "markdown",
      "metadata": {
        "id": "x9ZzRsEOVjr1",
        "colab_type": "text"
      },
      "source": [
        "### Question 2.2.1\n",
        "\n",
        "Unfortunately the above code is not very practical and re-usable, and will only work for $n=5$. Instead we would like a function named `factorial(n)`. In this Exercise, write your own function which calculates the factorial.\n",
        "\n",
        "As output print `factorial(10)`."
      ]
    },
    {
      "cell_type": "code",
      "metadata": {
        "id": "fq1sCN9qVilM",
        "colab_type": "code",
        "colab": {
          "base_uri": "https://localhost:8080/",
          "height": 34
        },
        "outputId": "a0c5ca50-22d0-4d9e-a25b-e6c38bf090bb"
      },
      "source": [
        "def factorial(n):\n",
        "  \n",
        "  # Write the rest of the function yourself\n",
        "  f = 1\n",
        "  for i in range(1,n+1):\n",
        "    f =  f * i\n",
        "  \n",
        "  return f\n",
        "\n",
        "print(factorial(10))"
      ],
      "execution_count": 7,
      "outputs": [
        {
          "output_type": "stream",
          "text": [
            "3628800\n"
          ],
          "name": "stdout"
        }
      ]
    },
    {
      "cell_type": "markdown",
      "metadata": {
        "id": "lTGp53FFXsBZ",
        "colab_type": "text"
      },
      "source": [
        "### Question 2.2.2:"
      ]
    },
    {
      "cell_type": "markdown",
      "metadata": {
        "id": "LLs8GRg2XtRk",
        "colab_type": "text"
      },
      "source": [
        "Using the `factorial(n)` function you wrote in the previous question, print all $n!$ for all n from 1 to 20. \n",
        "\n",
        "Hint: Use another for loop!"
      ]
    },
    {
      "cell_type": "code",
      "metadata": {
        "id": "TyUdxK-HXsZg",
        "colab_type": "code",
        "colab": {
          "base_uri": "https://localhost:8080/",
          "height": 364
        },
        "outputId": "3dbd33ef-8a7b-49e3-c176-b881a26289bf"
      },
      "source": [
        "# Below, write the code to print all n! from n=1 to n=20\n",
        "\n",
        "for n in range(1, 21):\n",
        "\n",
        "  print(n, factorial(n))\n",
        "\n"
      ],
      "execution_count": 9,
      "outputs": [
        {
          "output_type": "stream",
          "text": [
            "1 1\n",
            "2 2\n",
            "3 6\n",
            "4 24\n",
            "5 120\n",
            "6 720\n",
            "7 5040\n",
            "8 40320\n",
            "9 362880\n",
            "10 3628800\n",
            "11 39916800\n",
            "12 479001600\n",
            "13 6227020800\n",
            "14 87178291200\n",
            "15 1307674368000\n",
            "16 20922789888000\n",
            "17 355687428096000\n",
            "18 6402373705728000\n",
            "19 121645100408832000\n",
            "20 2432902008176640000\n"
          ],
          "name": "stdout"
        }
      ]
    },
    {
      "cell_type": "markdown",
      "metadata": {
        "id": "xDDiLMgb6GBY",
        "colab_type": "text"
      },
      "source": [
        "## Exercise 2.3: `if` / `else` statements"
      ]
    },
    {
      "cell_type": "markdown",
      "metadata": {
        "id": "lWEDLeQ4epuZ",
        "colab_type": "text"
      },
      "source": [
        "`if` and `else` statments can are used to make decisions based on defined criteria."
      ]
    },
    {
      "cell_type": "code",
      "metadata": {
        "id": "BtvSeIhv6GFq",
        "colab_type": "code",
        "colab": {}
      },
      "source": [
        "n = 10\n",
        "\n",
        "if n < 10: \n",
        "  print(\"n is less than 10\")\n",
        "else:\n",
        "  print(\"n is greater than 10\")\n",
        "\n"
      ],
      "execution_count": 0,
      "outputs": []
    },
    {
      "cell_type": "markdown",
      "metadata": {
        "id": "Y1yMeHK6f5B_",
        "colab_type": "text"
      },
      "source": [
        "### Question 2.3.1:\n",
        "\n",
        "One example of mathematical functions that contain such statements are the so-called \"rectifier linear unit\" (ReLU) functions which are often used in Neural Networks.\n",
        "\n",
        "An example is given here:\n",
        "\\begin{equation}\n",
        "f\\left(x\\right) =\n",
        "\\begin{cases} \n",
        "      0 & x\\leq 0 \\\\\n",
        "      x & x \\gt 0 \n",
        "   \\end{cases}\n",
        "\\end{equation}\n",
        "\n",
        "In this question, write the above ReLU function, which returns $0$ if $x \\leq 0$ and returns $x$ otherwise.\n",
        "\n",
        "Lastly, verify the correctness of your code your code using the 5 print statments in the code block below."
      ]
    },
    {
      "cell_type": "code",
      "metadata": {
        "id": "zE2Rnq-O6GOM",
        "colab_type": "code",
        "colab": {
          "base_uri": "https://localhost:8080/",
          "height": 104
        },
        "outputId": "6eeb5a60-37c4-42c1-b2c8-ec0c7c6661b8"
      },
      "source": [
        "def relu(x):\n",
        "\n",
        "  # Implement the content of the ReLU function yourself!\n",
        "  if x <= 0.0:\n",
        "    return 0.0\n",
        "  else:\n",
        "    return x\n",
        "\n",
        "\n",
        "print(relu(-10))  # should return 0\n",
        "print(relu(-0.1)) # should return 0\n",
        "print(relu(0))    # should return 0\n",
        "print(relu(0.1))  # should return 0.1\n",
        "print(relu(10))   # should return 10"
      ],
      "execution_count": 10,
      "outputs": [
        {
          "output_type": "stream",
          "text": [
            "0.0\n",
            "0.0\n",
            "0.0\n",
            "0.1\n",
            "10\n"
          ],
          "name": "stdout"
        }
      ]
    },
    {
      "cell_type": "markdown",
      "metadata": {
        "id": "qiQ5PrhQ6GTb",
        "colab_type": "text"
      },
      "source": [
        "## Exercise 2.4: Plotting"
      ]
    },
    {
      "cell_type": "markdown",
      "metadata": {
        "id": "yQt9h4xFzv7K",
        "colab_type": "text"
      },
      "source": [
        "In the below example, the value of\n",
        " $$y= x^2$$ \n",
        " is calculated for six values of $x$, and appended to a list.\n",
        "\n",
        "Next, the points are plottet using the `plt.plot()` function from the `pyplot` library.\n",
        "\n",
        "The function `plt.plot()` tells matplotlib to draw a lineplot that connects all the pairs of points in two lists."
      ]
    },
    {
      "cell_type": "code",
      "metadata": {
        "id": "vunkZuR26GX6",
        "colab_type": "code",
        "outputId": "7a846ec9-7ec0-411d-d4a9-ae395039574e",
        "colab": {
          "base_uri": "https://localhost:8080/",
          "height": 300
        }
      },
      "source": [
        "import matplotlib.pyplot as plt\n",
        "\n",
        "# Some x-values\n",
        "x = [0.0, 1.0, 2.0, 3.0, 4.0, 5.0]\n",
        "\n",
        "# Initialize an empty list for the y-values we wish to plot\n",
        "y = []\n",
        "\n",
        "for i in range(len(x)):\n",
        "\n",
        "  # Calculate the square of each x in the list\n",
        "  value = x[i]**2\n",
        "\n",
        "  # Add the calculated value to the list \"y\"\n",
        "  y.append(value)\n",
        "\n",
        "# Print the two lists\n",
        "print(x)\n",
        "print(y)\n",
        "\n",
        "# Make a line plot/figure\n",
        "plt.plot(x, y)\n",
        "\n",
        "# Actually draw the figure below\n",
        "plt.show()"
      ],
      "execution_count": 11,
      "outputs": [
        {
          "output_type": "stream",
          "text": [
            "[0.0, 1.0, 2.0, 3.0, 4.0, 5.0]\n",
            "[0.0, 1.0, 4.0, 9.0, 16.0, 25.0]\n"
          ],
          "name": "stdout"
        },
        {
          "output_type": "display_data",
          "data": {
            "image/png": "[encoded data removed]",
            "text/plain": [
              "<Figure size 432x288 with 1 Axes>"
            ]
          },
          "metadata": {
            "tags": [],
            "needs_background": "light"
          }
        }
      ]
    },
    {
      "cell_type": "markdown",
      "metadata": {
        "id": "TkRlZYbi0Wlv",
        "colab_type": "text"
      },
      "source": [
        "### Question 2.4.1:\n",
        "\n",
        "Instead of plotting a line through all points, it is also possible to plot datapoints using a so-called [scatterplot](https://en.wikipedia.org/wiki/Scatter_plot).\n",
        "\n",
        "For this behavior, you can replace the function `plt.plot()` in the above example with the function `plt.scatter()`.\n",
        "\n",
        "In this question you are given two lists of numbers below, `a` and `b`.\n",
        "\n",
        "Use pyplot to draw a *scatterplot* of the two lists."
      ]
    },
    {
      "cell_type": "code",
      "metadata": {
        "id": "1nv6m4AR0Wv8",
        "colab_type": "code",
        "colab": {
          "base_uri": "https://localhost:8080/",
          "height": 265
        },
        "outputId": "1176ad71-0f70-4442-da23-b6803cc08b5e"
      },
      "source": [
        "a = [10.0, 8.0, 13.0, 9.0, 11.0, 14.0, 6.0, 4.0, 12.0, 7.0, 5.0]\n",
        "b = [8.04, 6.95, 7.58, 8.81, 8.33, 9.96, 7.24, 4.26, 10.84, 4.82, 5.68]\n",
        "\n",
        "# Here, write the code to show a scatterplot for the lists a, b\n",
        "plt.scatter(a, b)\n",
        "plt.show()"
      ],
      "execution_count": 13,
      "outputs": [
        {
          "output_type": "display_data",
          "data": {
            "image/png": "[encoded data removed]",
            "text/plain": [
              "<Figure size 432x288 with 1 Axes>"
            ]
          },
          "metadata": {
            "tags": [],
            "needs_background": "light"
          }
        }
      ]
    },
    {
      "cell_type": "markdown",
      "metadata": {
        "id": "cU8lkPD0hTPr",
        "colab_type": "text"
      },
      "source": [
        "### Question 2.4.2:"
      ]
    },
    {
      "cell_type": "markdown",
      "metadata": {
        "id": "RGOTwuLShY6T",
        "colab_type": "text"
      },
      "source": [
        "In order to give the plot a title and label the axes, insert the three functions in the code in Question 2.4.1:\n",
        "\n",
        "*    `plt.xlabel()`\n",
        "*    `plt.ylabel()`\n",
        "*    `plt.title()`\n",
        "\n",
        "Make the plot title \"Python 2020\", label the x-axis \"Apples\" and the y-axis \"Oranges\""
      ]
    },
    {
      "cell_type": "code",
      "metadata": {
        "id": "7qqm_3QHhTXu",
        "colab_type": "code",
        "colab": {
          "base_uri": "https://localhost:8080/",
          "height": 295
        },
        "outputId": "3f3f98ef-3d56-4aae-c530-ab614b7e2985"
      },
      "source": [
        "plt.scatter(a, b)\n",
        "plt.xlabel(\"Apples\")\n",
        "plt.ylabel(\"Oranges\")\n",
        "plt.title(\"Python 2020\")\n",
        "plt.show()"
      ],
      "execution_count": 15,
      "outputs": [
        {
          "output_type": "display_data",
          "data": {
            "image/png": "[encoded data removed]",
            "text/plain": [
              "<Figure size 432x288 with 1 Axes>"
            ]
          },
          "metadata": {
            "tags": [],
            "needs_background": "light"
          }
        }
      ]
    },
    {
      "cell_type": "markdown",
      "metadata": {
        "id": "VwI0BijP6GdX",
        "colab_type": "text"
      },
      "source": [
        "## Exercise 2.5: More plotting (harder) \n"
      ]
    },
    {
      "cell_type": "markdown",
      "metadata": {
        "id": "qQeQGfz3xG0w",
        "colab_type": "text"
      },
      "source": [
        "### Question 2.5.1:\n",
        "In the example in Problem 2.4, the code for a line plot for $y = x^2$ is shown.\n",
        "\n",
        "Write your own code to plot $y = \\cos(x)$ from 0 to 10.\n",
        "\n",
        "**Hints:**\n",
        "\n",
        "\n",
        "*   Import the `np.cos()` function using `import numpy as np`\n",
        "*   If the figure does not look smooth, how can you make the points on the x-axis closer than 1.0?\n",
        "\n",
        "\n"
      ]
    },
    {
      "cell_type": "code",
      "metadata": {
        "id": "bRpOBE836Gid",
        "colab_type": "code",
        "colab": {
          "base_uri": "https://localhost:8080/",
          "height": 320
        },
        "outputId": "5b516464-104a-4ba6-821f-821370794c48"
      },
      "source": [
        "# First try:\n",
        "# Note that there are many ways to solve this exercise!\n",
        "\n",
        "import numpy as np\n",
        "\n",
        "x = []\n",
        "y = []\n",
        "\n",
        "for i in range(11):\n",
        "  x.append(i)\n",
        "  y.append(np.cos(i))\n",
        "\n",
        "# Print the two lists to verify that you have the right numbers\n",
        "print(x)\n",
        "print(y)\n",
        "\n",
        "# Make the figure\n",
        "plt.plot(x, y)\n",
        "\n",
        "# Actually draw the figure below\n",
        "plt.show()"
      ],
      "execution_count": 20,
      "outputs": [
        {
          "output_type": "stream",
          "text": [
            "[0, 1, 2, 3, 4, 5, 6, 7, 8, 9, 10]\n",
            "[1.0, 0.5403023058681398, -0.4161468365471424, -0.9899924966004454, -0.6536436208636119, 0.28366218546322625, 0.960170286650366, 0.7539022543433046, -0.14550003380861354, -0.9111302618846769, -0.8390715290764524]\n"
          ],
          "name": "stdout"
        },
        {
          "output_type": "display_data",
          "data": {
            "image/png": "[encoded data removed]",
            "text/plain": [
              "<Figure size 432x288 with 1 Axes>"
            ]
          },
          "metadata": {
            "tags": [],
            "needs_background": "light"
          }
        }
      ]
    },
    {
      "cell_type": "code",
      "metadata": {
        "id": "G_eng__KbBTk",
        "colab_type": "code",
        "colab": {
          "base_uri": "https://localhost:8080/",
          "height": 320
        },
        "outputId": "2d245e10-5598-4162-d16c-2071242ad035"
      },
      "source": [
        "# Smooth, with more x-values:\n",
        "# Note that there are many ways to solve this exercise!\n",
        "\n",
        "import numpy as np\n",
        "\n",
        "x = []\n",
        "y = []\n",
        "\n",
        "for i in range(100):\n",
        "\n",
        "  # Now there are 100 points between 0 and 10 with 0.1 spacing\n",
        "  # => smoother curve\n",
        "  xval = i/10.0\n",
        "  x.append(xval)\n",
        "\n",
        "  yval = np.cos(xval)\n",
        "  y.append(yval)\n",
        "\n",
        "\n",
        "# Print the two lists to verify that you have the right numbers\n",
        "print(x)\n",
        "print(y)\n",
        "\n",
        "# Make the figure\n",
        "plt.plot(x, y)\n",
        "\n",
        "# Actually draw the figure below\n",
        "plt.show()"
      ],
      "execution_count": 21,
      "outputs": [
        {
          "output_type": "stream",
          "text": [
            "[0.0, 0.1, 0.2, 0.3, 0.4, 0.5, 0.6, 0.7, 0.8, 0.9, 1.0, 1.1, 1.2, 1.3, 1.4, 1.5, 1.6, 1.7, 1.8, 1.9, 2.0, 2.1, 2.2, 2.3, 2.4, 2.5, 2.6, 2.7, 2.8, 2.9, 3.0, 3.1, 3.2, 3.3, 3.4, 3.5, 3.6, 3.7, 3.8, 3.9, 4.0, 4.1, 4.2, 4.3, 4.4, 4.5, 4.6, 4.7, 4.8, 4.9, 5.0, 5.1, 5.2, 5.3, 5.4, 5.5, 5.6, 5.7, 5.8, 5.9, 6.0, 6.1, 6.2, 6.3, 6.4, 6.5, 6.6, 6.7, 6.8, 6.9, 7.0, 7.1, 7.2, 7.3, 7.4, 7.5, 7.6, 7.7, 7.8, 7.9, 8.0, 8.1, 8.2, 8.3, 8.4, 8.5, 8.6, 8.7, 8.8, 8.9, 9.0, 9.1, 9.2, 9.3, 9.4, 9.5, 9.6, 9.7, 9.8, 9.9]\n",
            "[1.0, 0.9950041652780258, 0.9800665778412416, 0.955336489125606, 0.9210609940028851, 0.8775825618903728, 0.8253356149096783, 0.7648421872844885, 0.6967067093471654, 0.6216099682706644, 0.5403023058681398, 0.4535961214255773, 0.3623577544766736, 0.26749882862458735, 0.16996714290024104, 0.0707372016677029, -0.029199522301288815, -0.12884449429552464, -0.2272020946930871, -0.32328956686350335, -0.4161468365471424, -0.5048461045998576, -0.5885011172553458, -0.6662760212798241, -0.7373937155412454, -0.8011436155469337, -0.8568887533689473, -0.9040721420170612, -0.9422223406686581, -0.9709581651495905, -0.9899924966004454, -0.9991351502732795, -0.9982947757947531, -0.9874797699088649, -0.9667981925794611, -0.9364566872907963, -0.896758416334147, -0.848100031710408, -0.7909677119144168, -0.7259323042001402, -0.6536436208636119, -0.5748239465332692, -0.4902608213406994, -0.40079917207997545, -0.30733286997841935, -0.2107957994307797, -0.11215252693505487, -0.01238866346289056, 0.0874989834394464, 0.18651236942257576, 0.28366218546322625, 0.37797774271298024, 0.4685166713003771, 0.5543743361791608, 0.6346928759426347, 0.70866977429126, 0.7755658785102496, 0.8347127848391598, 0.8855195169413189, 0.9274784307440359, 0.960170286650366, 0.9832684384425845, 0.9965420970232175, 0.9998586363834151, 0.9931849187581926, 0.9765876257280235, 0.9502325919585296, 0.9143831482353194, 0.8693974903498253, 0.8157251001253568, 0.7539022543433046, 0.6845466664428066, 0.6083513145322546, 0.5260775173811053, 0.43854732757439036, 0.3466353178350258, 0.2512598425822557, 0.15337386203786435, 0.05395542056264975, -0.04600212563953695, -0.14550003380861354, -0.2435441537357911, -0.3391548609838345, -0.4313768449706208, -0.5192886541166856, -0.6020119026848236, -0.6787200473200125, -0.7486466455973987, -0.811093014061656, -0.8654352092411123, -0.9111302618846769, -0.9477216021311119, -0.9748436214041636, -0.9922253254526034, -0.9996930420352065, -0.9971721561963784, -0.984687855794127, -0.9623648798313102, -0.9304262721047533, -0.8891911526253609]\n"
          ],
          "name": "stdout"
        },
        {
          "output_type": "display_data",
          "data": {
            "image/png": "[encoded data removed]",
            "text/plain": [
              "<Figure size 432x288 with 1 Axes>"
            ]
          },
          "metadata": {
            "tags": [],
            "needs_background": "light"
          }
        }
      ]
    }
  ]
}