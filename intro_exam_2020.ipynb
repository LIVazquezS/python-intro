{
  "nbformat": 4,
  "nbformat_minor": 0,
  "metadata": {
    "colab": {
      "name": "intro_handin_2020.ipynb",
      "provenance": [],
      "collapsed_sections": []
    },
    "kernelspec": {
      "name": "python3",
      "display_name": "Python 3"
    }
  },
  "cells": [
    {
      "cell_type": "markdown",
      "metadata": {
        "id": "sNJ_q_gePbbf",
        "colab_type": "text"
      },
      "source": [
        " Exam Questions to: Introduction to Python 3.6, May 2020\n",
        "\n",
        "By Dr. Anders S. Christensen\n",
        "`anders.christensen @ unibas.ch`"
      ]
    },
    {
      "cell_type": "markdown",
      "metadata": {
        "id": "Fx3ApaKCSMTN",
        "colab_type": "text"
      },
      "source": [
        "\n",
        "\n",
        "---\n",
        "\n",
        "## ***Important:***\n",
        "***The answers to the questions must be entered in the online system:***\n",
        "\n",
        "https://www.chemie1.unibas.ch/~pythonprakt/\n",
        "\n",
        "*    You should have received the username and password by email.\n",
        "\n",
        "*    Use you @unibas.ch or @stud.unibas.ch email to login after you enter the username and password for the course.\n",
        "\n"
      ]
    },
    {
      "cell_type": "markdown",
      "metadata": {
        "id": "mKmWhP9bPczk",
        "colab_type": "text"
      },
      "source": [
        "## Exam Question 1: Debugging\n"
      ]
    },
    {
      "cell_type": "markdown",
      "metadata": {
        "id": "B-NtxMwPPc6s",
        "colab_type": "text"
      },
      "source": [
        "\n",
        "The code block below contains a bug.\n",
        "\n",
        "**To-do:**\n",
        "\n",
        "1.   Fix the bug\n",
        "2.   In the web-interface, enter what was wrong\n",
        "\n"
      ]
    },
    {
      "cell_type": "code",
      "metadata": {
        "id": "DdgV_IbmPdBR",
        "colab_type": "code",
        "colab": {}
      },
      "source": [
        "number = 5\n",
        "\n",
        "if number > 10:\n",
        "  print(\"number is less than 10\")\n",
        "elif number <= 10\n",
        "  print(\"number is less than or equal to 10\")"
      ],
      "execution_count": 0,
      "outputs": []
    },
    {
      "cell_type": "markdown",
      "metadata": {
        "id": "lyduR0E-PdHy",
        "colab_type": "text"
      },
      "source": [
        "## Exam Question 2: `for`-loops"
      ]
    },
    {
      "cell_type": "markdown",
      "metadata": {
        "id": "WD2PUakTket5",
        "colab_type": "text"
      },
      "source": [
        "In this exercises you will use a `for` loop to carry out summation as seen in the previous exercises in the course.\n",
        "\n",
        "Use Python code to calculate the result, $x$, of the following summation:\n",
        "\n",
        "\\begin{equation}\n",
        "x = \\sum_{n=0}^{200} n^3\n",
        "\\end{equation}\n",
        "\n",
        "\n",
        "**To-do:**\n",
        "\n",
        "1.   Code the summation in the code block below\n",
        "2.   In the web-interface, select the correct answer\n",
        "\n",
        "\n",
        "\n"
      ]
    },
    {
      "cell_type": "code",
      "metadata": {
        "id": "YRsnB2OUlO0H",
        "colab_type": "code",
        "colab": {}
      },
      "source": [
        "## Insert the code here to calculate the sum and print the result\n",
        "\n",
        "\n"
      ],
      "execution_count": 0,
      "outputs": []
    },
    {
      "cell_type": "markdown",
      "metadata": {
        "id": "cHEjU05IPdWA",
        "colab_type": "text"
      },
      "source": [
        "## Exam Question 3: Functions\n",
        "\n"
      ]
    },
    {
      "cell_type": "markdown",
      "metadata": {
        "id": "J7r7xqP-PdYi",
        "colab_type": "text"
      },
      "source": [
        "In this exercise, you must write a function a function to calculate the followling polynomium:\n",
        "\\begin{equation}\n",
        "p\\left( x \\right) = 3x^3 + 4x^2 - 8x -3\n",
        "\\end{equation}\n",
        "\n",
        "\n",
        "\n",
        "\n",
        "**To-do:**\n",
        "1.   Write a function to calculate the polynomial\n",
        "2.   Use the code to calculate the value of:\n",
        "    *   $p(5)$\n",
        "    *   $p(13)$\n",
        "    *   $p(72)$\n",
        "3.   In the web-interface, select the correct value of the three numbers\n",
        "\n"
      ]
    },
    {
      "cell_type": "code",
      "metadata": {
        "id": "F1aydFpfPdd-",
        "colab_type": "code",
        "colab": {}
      },
      "source": [
        "## Write a function to calculate the ploynomium and calculate p(5), p(13), and p(72) \n",
        "\n",
        "\n",
        "\n",
        "\n",
        "\n"
      ],
      "execution_count": 0,
      "outputs": []
    },
    {
      "cell_type": "markdown",
      "metadata": {
        "id": "2sPBWT9IPdk7",
        "colab_type": "text"
      },
      "source": [
        "## Exam Question 4: Plotting"
      ]
    },
    {
      "cell_type": "markdown",
      "metadata": {
        "id": "a-7m2q9xeCSI",
        "colab_type": "text"
      },
      "source": [
        "In this exercise, you will use plotting with `matplotlib.pyplot` to find out whether two sets of data have any correlation.\n",
        "\n",
        "You are given two lists, `x` and `y`.\n",
        "\n",
        "Similarly to the scatterplot in the previous exercises, make a scatter plot of the two lists in the code block below.\n",
        "\n",
        "Once you have made the plot, you should be able to see whether there is any correlation between the numbers in the two lists.\n",
        "\n",
        "**To-do:**\n",
        "\n",
        "\n",
        "1.   Plot the scatterplot\n",
        "2.   See if the two lists `x` and `y` correlate\n",
        "3.   In the web-interface give the answer to (2.)\n",
        "\n"
      ]
    },
    {
      "cell_type": "code",
      "metadata": {
        "id": "vn9m-ZI1Pdtb",
        "colab_type": "code",
        "colab": {}
      },
      "source": [
        "x = [0.4967, 0.3617, 1.6477, 3.023, 1.7658,\n",
        "     2.2659, 4.5792, 4.2674, 3.5305, 5.0426,\n",
        "     4.5366, 5.0343, 6.242, 4.5867, 5.2751,\n",
        "     6.9377, 6.9872, 8.8142, 8.092, 8.0877]\n",
        "\n",
        "y = [1.4656, 0.2742, 1.0675, 0.0753, 1.4556,\n",
        "     2.6109, 1.849, 3.8757, 3.3994, 4.2083,\n",
        "     4.3983, 7.3523, 5.9865, 5.4423, 7.8225,\n",
        "     6.2792, 8.2089, 6.5403, 7.6718, 9.6969]\n",
        "\n",
        "import matplotlib.pyplot as plt\n",
        "\n",
        "# <-- Insert code to plot the scatter plot of 'x' and 'y' here\n",
        "\n",
        "\n",
        "# Show the figure\n",
        "plt.show()"
      ],
      "execution_count": 0,
      "outputs": []
    },
    {
      "cell_type": "markdown",
      "metadata": {
        "id": "ETKKdq3tPd1i",
        "colab_type": "text"
      },
      "source": [
        "## Exam Question 5: Numpy"
      ]
    },
    {
      "cell_type": "markdown",
      "metadata": {
        "id": "YO8P4ikmPd4E",
        "colab_type": "text"
      },
      "source": [
        "In the example below, two random matrices are defined, `A` and `B`."
      ]
    },
    {
      "cell_type": "code",
      "metadata": {
        "id": "W8KlGtYNPd8k",
        "colab_type": "code",
        "colab": {}
      },
      "source": [
        "import numpy as np\n",
        "\n",
        "np.random.seed(2020)\n",
        "\n",
        "A = np.random.randint(10, size=(6,4))\n",
        "B = np.random.randint(10, size=(4,5))\n",
        "\n",
        "print(\"A:\")\n",
        "print(A)\n",
        "\n",
        "print(\"B:\")\n",
        "print(B)"
      ],
      "execution_count": 0,
      "outputs": []
    },
    {
      "cell_type": "markdown",
      "metadata": {
        "id": "EQjs3v9FToNg",
        "colab_type": "text"
      },
      "source": [
        "In this questions, you have to calculate the following matrix product:\n",
        "\\begin{equation}\n",
        "\\mathbf{C} = \\mathbf{A}\\mathbf{B}.\n",
        "\\end{equation}\n",
        "\n",
        "\n",
        "**To-do:**\n",
        "1.   Calculate the $\\mathbf{C}$ matrix using Numpy, and print it\n",
        "3.   In the web-interface select the correct output of the calculation\n",
        "\n"
      ]
    },
    {
      "cell_type": "code",
      "metadata": {
        "id": "JnLyDjjFTm0G",
        "colab_type": "code",
        "colab": {}
      },
      "source": [
        "# Below, code the matrix product C=AB, print the answer, and select the answer in the web-interface\n",
        "\n",
        "\n",
        "\n",
        "\n"
      ],
      "execution_count": 0,
      "outputs": []
    }
  ]
}