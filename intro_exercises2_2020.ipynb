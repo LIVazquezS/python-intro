{
  "nbformat": 4,
  "nbformat_minor": 0,
  "metadata": {
    "colab": {
      "name": "exercises2_2020.ipynb",
      "provenance": [],
      "collapsed_sections": []
    },
    "kernelspec": {
      "name": "python3",
      "display_name": "Python 3"
    }
  },
  "cells": [
    {
      "cell_type": "markdown",
      "metadata": {
        "id": "EiEOVsZx7XTs",
        "colab_type": "text"
      },
      "source": [
        "# Exercises to Lecture 2: Introduction to Python 3.6 \n",
        "By Dr. Anders S. Christensen\n",
        "`anders.christensen @ unibas.ch`\n"
      ]
    },
    {
      "cell_type": "markdown",
      "metadata": {
        "id": "yW74EMch6FwS",
        "colab_type": "text"
      },
      "source": [
        "## Exercise 2.1: define a function"
      ]
    },
    {
      "cell_type": "markdown",
      "metadata": {
        "id": "6DRXgy9n8Ewl",
        "colab_type": "text"
      },
      "source": [
        "One of the fundamental things we learned was how to define functions.\n",
        "\n",
        "For example, the function defined below `square(x)` calculates the square, $x^2$:"
      ]
    },
    {
      "cell_type": "code",
      "metadata": {
        "id": "1oWA4omv6F1e",
        "colab_type": "code",
        "colab": {}
      },
      "source": [
        "def square(x):\n",
        "  y = 2 * x**2\n",
        "  return y\n",
        "\n",
        "print(square(2))"
      ],
      "execution_count": 0,
      "outputs": []
    },
    {
      "cell_type": "markdown",
      "metadata": {
        "id": "rvKbienrXKiJ",
        "colab_type": "text"
      },
      "source": [
        "### Question 2.1.1:"
      ]
    },
    {
      "cell_type": "markdown",
      "metadata": {
        "id": "RRdc88VAXlBG",
        "colab_type": "text"
      },
      "source": [
        "Similarly to the above code, make a function called. for example, `poly(x)` to calculate the following polynomial:\n",
        "\\begin{equation}\n",
        "p\\left( x \\right) = 5 x^2 - 4x + 1\n",
        "\\end{equation}\n",
        "\n",
        "Lastly, print the value of $p\\left( 5 \\right)$"
      ]
    },
    {
      "cell_type": "code",
      "metadata": {
        "id": "djDTi6hOXKx8",
        "colab_type": "code",
        "colab": {}
      },
      "source": [
        "def poly(x):\n",
        "\n",
        "  # Fill out the rest of the function yourself!\n",
        "\n",
        "\n",
        "# Print the value for x=5\n",
        "print(poly(5))"
      ],
      "execution_count": 0,
      "outputs": []
    },
    {
      "cell_type": "markdown",
      "metadata": {
        "id": "QXZdW0QO6F5p",
        "colab_type": "text"
      },
      "source": [
        "## Exercise 2.2: Loop within function"
      ]
    },
    {
      "cell_type": "markdown",
      "metadata": {
        "id": "AXZCtaiWRnQe",
        "colab_type": "text"
      },
      "source": [
        "The code below implements the product of all numbers up to n, i.e. the factorial function \"$!$\"\n",
        "\n",
        "\\begin{equation}\n",
        "f(n) = n! = \\prod_{i=1}^n i = 1 \\cdot 2 \\cdot \\quad  ... \\quad \\cdot (n -1) \\cdot n\n",
        "\\end{equation}\n",
        "\n",
        "As an example, the code to calculate $5!$ is shown here:"
      ]
    },
    {
      "cell_type": "code",
      "metadata": {
        "id": "pBd8GDNI6F-I",
        "colab_type": "code",
        "colab": {}
      },
      "source": [
        "n = 5\n",
        "\n",
        "f = 1\n",
        "for i in range(1,n+1):\n",
        "  f =  f * i\n",
        "\n",
        "print(\"Factorial\", n, \"is\", f)"
      ],
      "execution_count": 0,
      "outputs": []
    },
    {
      "cell_type": "markdown",
      "metadata": {
        "id": "x9ZzRsEOVjr1",
        "colab_type": "text"
      },
      "source": [
        "### Question 2.2.1\n",
        "\n",
        "Unfortunately the above code is not very practical and re-usable, and will only work for $n=5$. Instead we would like a function named `factorial(n)`. In this Exercise, write your own function which calculates the factorial.\n",
        "\n",
        "As output print `factorial(10)`."
      ]
    },
    {
      "cell_type": "code",
      "metadata": {
        "id": "fq1sCN9qVilM",
        "colab_type": "code",
        "colab": {}
      },
      "source": [
        "def factorial(n):\n",
        "  \n",
        "  # Write the rest of the function yourself\n",
        "\n",
        "\n",
        "print(factorial(10))"
      ],
      "execution_count": 0,
      "outputs": []
    },
    {
      "cell_type": "markdown",
      "metadata": {
        "id": "lTGp53FFXsBZ",
        "colab_type": "text"
      },
      "source": [
        "### Question 2.2.2:"
      ]
    },
    {
      "cell_type": "markdown",
      "metadata": {
        "id": "LLs8GRg2XtRk",
        "colab_type": "text"
      },
      "source": [
        "Using the `factorial(n)` function you wrote in the previous question, print all $n!$ for all n from 1 to 20. \n",
        "\n",
        "Hint: Use another for loop!"
      ]
    },
    {
      "cell_type": "code",
      "metadata": {
        "id": "TyUdxK-HXsZg",
        "colab_type": "code",
        "colab": {}
      },
      "source": [
        "# Below, write the code to print all n! from n=1 to n=20\n",
        "\n",
        "\n"
      ],
      "execution_count": 0,
      "outputs": []
    },
    {
      "cell_type": "markdown",
      "metadata": {
        "id": "xDDiLMgb6GBY",
        "colab_type": "text"
      },
      "source": [
        "## Exercise 2.3: `if` / `else` statements"
      ]
    },
    {
      "cell_type": "markdown",
      "metadata": {
        "id": "lWEDLeQ4epuZ",
        "colab_type": "text"
      },
      "source": [
        "`if` and `else` statments can are used to make decisions based on defined criteria."
      ]
    },
    {
      "cell_type": "code",
      "metadata": {
        "id": "BtvSeIhv6GFq",
        "colab_type": "code",
        "colab": {}
      },
      "source": [
        "n = 10\n",
        "\n",
        "if n < 10: \n",
        "  print(\"n is less than 10\")\n",
        "else:\n",
        "  print(\"n is greater than 10\")\n",
        "\n"
      ],
      "execution_count": 0,
      "outputs": []
    },
    {
      "cell_type": "markdown",
      "metadata": {
        "id": "Y1yMeHK6f5B_",
        "colab_type": "text"
      },
      "source": [
        "### Question 2.3.1:\n",
        "\n",
        "One example of mathematical functions that contain such statements are the so-called \"rectifier linear unit\" (ReLU) functions which are often used in Neural Networks.\n",
        "\n",
        "An example is given here:\n",
        "\\begin{equation}\n",
        "f\\left(x\\right) =\n",
        "\\begin{cases} \n",
        "      0 & x\\leq 0 \\\\\n",
        "      x & x \\gt 0 \n",
        "   \\end{cases}\n",
        "\\end{equation}\n",
        "\n",
        "In this question, write the above ReLU function, which returns $0$ if $x \\leq 0$ and returns $x$ otherwise.\n",
        "\n",
        "Lastly, verify the correctness of your code your code using the 5 print statments in the code block below."
      ]
    },
    {
      "cell_type": "code",
      "metadata": {
        "id": "zE2Rnq-O6GOM",
        "colab_type": "code",
        "colab": {}
      },
      "source": [
        "def relu(x):\n",
        "\n",
        "  # Implement the content of the ReLU function yourself!\n",
        "\n",
        "\n",
        "\n",
        "print(relu(-10))  # should return 0\n",
        "print(relu(-0.1)) # should return 0\n",
        "print(relu(0))    # should return 0\n",
        "print(relu(0.1))  # should return 0.1\n",
        "print(relu(10))   # should return 10"
      ],
      "execution_count": 0,
      "outputs": []
    },
    {
      "cell_type": "markdown",
      "metadata": {
        "id": "qiQ5PrhQ6GTb",
        "colab_type": "text"
      },
      "source": [
        "## Exercise 2.4: Plotting"
      ]
    },
    {
      "cell_type": "markdown",
      "metadata": {
        "id": "yQt9h4xFzv7K",
        "colab_type": "text"
      },
      "source": [
        "In the below example, the value of\n",
        " $$y= x^2$$ \n",
        " is calculated for six values of $x$, and appended to a list.\n",
        "\n",
        "Next, the points are plottet using the `plt.plot()` function from the `pyplot` library.\n",
        "\n",
        "The function `plt.plot()` tells matplotlib to draw a lineplot that connects all the pairs of points in two lists."
      ]
    },
    {
      "cell_type": "code",
      "metadata": {
        "id": "vunkZuR26GX6",
        "colab_type": "code",
        "outputId": "c4a378bf-f694-4d83-d081-be1f2a909499",
        "colab": {
          "base_uri": "https://localhost:8080/",
          "height": 300
        }
      },
      "source": [
        "import matplotlib.pyplot as plt\n",
        "\n",
        "# Some x-values\n",
        "x = [0.0, 1.0, 2.0, 3.0, 4.0, 5.0]\n",
        "\n",
        "# Initialize an empty list for the y-values we wish to plot\n",
        "y = []\n",
        "\n",
        "for i in range(len(x)):\n",
        "\n",
        "  # Calculate the square of each x in the list\n",
        "  value = x[i]**2\n",
        "\n",
        "  # Add the calculated value to the list \"y\"\n",
        "  y.append(value)\n",
        "\n",
        "# Print the two lists\n",
        "print(x)\n",
        "print(y)\n",
        "\n",
        "# Make a line plot/figure\n",
        "plt.plot(x, y)\n",
        "\n",
        "# Actually draw the figure below\n",
        "plt.show()"
      ],
      "execution_count": 0,
      "outputs": [
        {
          "output_type": "stream",
          "text": [
            "[0.0, 1.0, 2.0, 3.0, 4.0, 5.0]\n",
            "[0.0, 1.0, 4.0, 9.0, 16.0, 25.0]\n"
          ],
          "name": "stdout"
        },
        {
          "output_type": "display_data",
          "data": {
            "image/png": "[encoded data removed]",
            "text/plain": [
              "<Figure size 432x288 with 1 Axes>"
            ]
          },
          "metadata": {
            "tags": [],
            "needs_background": "light"
          }
        }
      ]
    },
    {
      "cell_type": "markdown",
      "metadata": {
        "id": "TkRlZYbi0Wlv",
        "colab_type": "text"
      },
      "source": [
        "### Question 2.4.1:\n",
        "\n",
        "Instead of plotting a line through all points, it is also possible to plot datapoints using a so-called [scatterplot](https://en.wikipedia.org/wiki/Scatter_plot).\n",
        "\n",
        "For this behavior, you can replace the function `plt.plot()` in the above example with the function `plt.scatter()`.\n",
        "\n",
        "In this question you are given two lists of numbers below, `a` and `b`.\n",
        "\n",
        "Use pyplot to draw a *scatterplot* of the two lists."
      ]
    },
    {
      "cell_type": "code",
      "metadata": {
        "id": "1nv6m4AR0Wv8",
        "colab_type": "code",
        "colab": {}
      },
      "source": [
        "a = [10.0, 8.0, 13.0, 9.0, 11.0, 14.0, 6.0, 4.0, 12.0, 7.0, 5.0]\n",
        "b = [8.04, 6.95, 7.58, 8.81, 8.33, 9.96, 7.24, 4.26, 10.84, 4.82, 5.68]\n",
        "\n",
        "# Here, write the code to show a scatterplot for the lists a, b"
      ],
      "execution_count": 0,
      "outputs": []
    },
    {
      "cell_type": "markdown",
      "metadata": {
        "id": "cU8lkPD0hTPr",
        "colab_type": "text"
      },
      "source": [
        "### Question 2.4.2:"
      ]
    },
    {
      "cell_type": "markdown",
      "metadata": {
        "id": "RGOTwuLShY6T",
        "colab_type": "text"
      },
      "source": [
        "In order to give the plot a title and label the axes, insert the three functions in the code in Question 2.4.1:\n",
        "\n",
        "*    `plt.xlabel()`\n",
        "*    `plt.ylabel()`\n",
        "*    `plt.title()`\n",
        "\n",
        "Make the plot title \"Python 2020\", label the x-axis \"Apples\" and the y-axis \"Oranges\""
      ]
    },
    {
      "cell_type": "code",
      "metadata": {
        "id": "7qqm_3QHhTXu",
        "colab_type": "code",
        "colab": {}
      },
      "source": [
        ""
      ],
      "execution_count": 0,
      "outputs": []
    },
    {
      "cell_type": "markdown",
      "metadata": {
        "id": "VwI0BijP6GdX",
        "colab_type": "text"
      },
      "source": [
        "## Exercise 2.5: More plotting (harder) \n"
      ]
    },
    {
      "cell_type": "markdown",
      "metadata": {
        "id": "qQeQGfz3xG0w",
        "colab_type": "text"
      },
      "source": [
        "### Question 2.5.1:\n",
        "In the example in Problem 2.4, the code for a line plot for $y = x^2$ is shown.\n",
        "\n",
        "Write your own code to plot $y = \\cos(x)$ from 0 to 10.\n",
        "\n",
        "**Hints:**\n",
        "\n",
        "\n",
        "*   Import the `np.cos()` function using `import numpy as np`\n",
        "*   If the figure does not look smooth, how can you make the points on the x-axis closer than 1.0?\n",
        "\n",
        "\n"
      ]
    },
    {
      "cell_type": "code",
      "metadata": {
        "id": "bRpOBE836Gid",
        "colab_type": "code",
        "colab": {}
      },
      "source": [
        "import numpy as np\n",
        "\n",
        "\n",
        "## Create the numpy arrays or lists of x and y values\n",
        "\n",
        "\n",
        "\n",
        "\n",
        "\n",
        "\n",
        "\n",
        "\n",
        "\n",
        "# Print the two lists to verify that you have the right numbers\n",
        "# print(x)\n",
        "# print(y)\n",
        "\n",
        "# Make the figure\n",
        "# plt.plot(x, y)\n",
        "\n",
        "# Actually draw the figure below\n",
        "# plt.show()"
      ],
      "execution_count": 0,
      "outputs": []
    }
  ]
}