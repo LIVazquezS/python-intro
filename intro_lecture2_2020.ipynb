{
  "nbformat": 4,
  "nbformat_minor": 0,
  "metadata": {
    "colab": {
      "name": "lecture2_2020.ipynb",
      "provenance": [],
      "collapsed_sections": [
        "b1mvIlThraMx"
      ]
    },
    "kernelspec": {
      "name": "python3",
      "display_name": "Python 3"
    }
  },
  "cells": [
    {
      "cell_type": "markdown",
      "metadata": {
        "id": "yVQr8QzjWnia",
        "colab_type": "text"
      },
      "source": [
        "# Lecture 2: Debugging, Control Statements, Functions\n",
        "By Dr. Anders S. Christensen\n",
        "`anders.christensen @ unibas.ch`"
      ]
    },
    {
      "cell_type": "markdown",
      "metadata": {
        "id": "AkiSdrIqhGVs",
        "colab_type": "text"
      },
      "source": [
        "## Debugging Exercises:"
      ]
    },
    {
      "cell_type": "markdown",
      "metadata": {
        "id": "0bSPhRMykkwk",
        "colab_type": "text"
      },
      "source": [
        "First, we go through some common errors that you **will** encounter in this course!\n",
        "\n",
        "I wrote the following bits of code, neither of them work!\n"
      ]
    },
    {
      "cell_type": "code",
      "metadata": {
        "id": "rIelPGLSks2l",
        "colab_type": "code",
        "colab": {}
      },
      "source": [
        "# Error 1:\n",
        "\n",
        "k = 0\n",
        "\n",
        "# Sum all numbers from 0 to 9\n",
        "for i in range(10):\n",
        "  k = k + 1\n",
        "\n",
        " print(k)"
      ],
      "execution_count": 0,
      "outputs": []
    },
    {
      "cell_type": "code",
      "metadata": {
        "id": "ExcBvaNCk3lq",
        "colab_type": "code",
        "colab": {}
      },
      "source": [
        "# Error 2:\n",
        "\n",
        "my_list = [1.0, 2.0, 3.0, 4.0, 5.0]\n",
        "\n",
        "print(\"Length of list:\", len(my_list))\n",
        "\n",
        "print(my_list[1])\n",
        "print(my_list[2])\n",
        "print(my_list[3])\n",
        "print(my_list[4])\n",
        "print(my_list[5])"
      ],
      "execution_count": 0,
      "outputs": []
    },
    {
      "cell_type": "code",
      "metadata": {
        "id": "-RFb13BtlQWp",
        "colab_type": "code",
        "colab": {}
      },
      "source": [
        "# Error 3:\n",
        "\n",
        "y = [3.5, 2.1, -2.5, 1.2, 6.2, 5.2, -8.1]\n",
        "\n",
        "# print y\n",
        "print(y)\n",
        "\n",
        "# print second entry in y\n",
        "print(y(2))\n",
        "\n",
        "print(\"Done!\")"
      ],
      "execution_count": 0,
      "outputs": []
    },
    {
      "cell_type": "code",
      "metadata": {
        "id": "p4cus3_nlbWC",
        "colab_type": "code",
        "colab": {}
      },
      "source": [
        "# Error 4:\n",
        "\n",
        "for i in range(10)\n",
        "  print(i)\n",
        "\n",
        "print \"Done!\""
      ],
      "execution_count": 0,
      "outputs": []
    },
    {
      "cell_type": "markdown",
      "metadata": {
        "id": "y8p88_2w__8Z",
        "colab_type": "text"
      },
      "source": [
        "## Example 2.1: `if` and `else` statements\n",
        "\n"
      ]
    },
    {
      "cell_type": "markdown",
      "metadata": {
        "id": "o_9LA61zAVcb",
        "colab_type": "text"
      },
      "source": [
        "These statments can do things depending on a condition, for example:"
      ]
    },
    {
      "cell_type": "code",
      "metadata": {
        "id": "UHNXz0GaAWof",
        "colab_type": "code",
        "colab": {}
      },
      "source": [
        "a = 33\n",
        "b = 200\n",
        "if b > a:\n",
        "  print(\"b is greater than a\")"
      ],
      "execution_count": 0,
      "outputs": []
    },
    {
      "cell_type": "markdown",
      "metadata": {
        "id": "jlUGaybcAa7U",
        "colab_type": "text"
      },
      "source": [
        "Or with branching:"
      ]
    },
    {
      "cell_type": "code",
      "metadata": {
        "id": "7AFPuqWJAbCf",
        "colab_type": "code",
        "colab": {}
      },
      "source": [
        "a = 33\n",
        "b = 20\n",
        "if b > a:\n",
        "  print(\"b is greater than a\")\n",
        "else:\n",
        "  print(\"b is NOT greater than a\")"
      ],
      "execution_count": 0,
      "outputs": []
    },
    {
      "cell_type": "markdown",
      "metadata": {
        "id": "yXwiQvI_nVmw",
        "colab_type": "text"
      },
      "source": [
        "Even more possibilites with `elif` (short for else+if):"
      ]
    },
    {
      "cell_type": "code",
      "metadata": {
        "id": "KcWKDu1tnVvx",
        "colab_type": "code",
        "colab": {}
      },
      "source": [
        "a = 33\n",
        "b = 20\n",
        "if b > a:\n",
        "  print(\"b is greater than a\")\n",
        "elif b == a:\n",
        "  print(\"b is equal to a\")\n",
        "else:\n",
        "  print(\"b is smaller than a\")"
      ],
      "execution_count": 0,
      "outputs": []
    },
    {
      "cell_type": "markdown",
      "metadata": {
        "id": "RJ-M1nixgA5U",
        "colab_type": "text"
      },
      "source": [
        "### Other common checks:"
      ]
    },
    {
      "cell_type": "code",
      "metadata": {
        "id": "IrqIK7Sff7Ui",
        "colab_type": "code",
        "colab": {}
      },
      "source": [
        "a == b # Note two == signs!!"
      ],
      "execution_count": 0,
      "outputs": []
    },
    {
      "cell_type": "code",
      "metadata": {
        "id": "IsDEgb38gQHx",
        "colab_type": "code",
        "colab": {}
      },
      "source": [
        "a >= b # Greater than or equal to"
      ],
      "execution_count": 0,
      "outputs": []
    },
    {
      "cell_type": "code",
      "metadata": {
        "id": "NRIjspLfTk7e",
        "colab_type": "code",
        "colab": {}
      },
      "source": [
        "a > b # Greater than"
      ],
      "execution_count": 0,
      "outputs": []
    },
    {
      "cell_type": "code",
      "metadata": {
        "id": "V6ebbTvYgQNI",
        "colab_type": "code",
        "colab": {}
      },
      "source": [
        "a <= b # Smaller than or equal to"
      ],
      "execution_count": 0,
      "outputs": []
    },
    {
      "cell_type": "code",
      "metadata": {
        "id": "Io7w3oNqTsQX",
        "colab_type": "code",
        "colab": {}
      },
      "source": [
        "a < b # Smaller than"
      ],
      "execution_count": 0,
      "outputs": []
    },
    {
      "cell_type": "code",
      "metadata": {
        "id": "Q59uwjmWgQQ3",
        "colab_type": "code",
        "colab": {}
      },
      "source": [
        "a != b # Not equal to"
      ],
      "execution_count": 0,
      "outputs": []
    },
    {
      "cell_type": "markdown",
      "metadata": {
        "id": "9k8zG5qaQx78",
        "colab_type": "text"
      },
      "source": [
        "`True` and `False` are called \"boolean\"!\n",
        "\n",
        "The tests above are from what is called \"boolean algebra\""
      ]
    },
    {
      "cell_type": "code",
      "metadata": {
        "id": "XdBSCf7WQVDp",
        "colab_type": "code",
        "colab": {}
      },
      "source": [
        "# Boolean as a variable\n",
        "\n",
        "my_var = True\n",
        "# var = False\n",
        "print(my_var)\n",
        "\n",
        "print(type(my_var))"
      ],
      "execution_count": 0,
      "outputs": []
    },
    {
      "cell_type": "markdown",
      "metadata": {
        "id": "dLtuV1dET8_5",
        "colab_type": "text"
      },
      "source": [
        "What happens here?"
      ]
    },
    {
      "cell_type": "code",
      "metadata": {
        "id": "lOiqL6lBT9Ge",
        "colab_type": "code",
        "colab": {}
      },
      "source": [
        "if my_var:\n",
        "  print(\"That was True\")"
      ],
      "execution_count": 0,
      "outputs": []
    },
    {
      "cell_type": "markdown",
      "metadata": {
        "id": "aqZny6LiSDyz",
        "colab_type": "text"
      },
      "source": [
        "Other keywords: `and`, `or`, `not`"
      ]
    },
    {
      "cell_type": "code",
      "metadata": {
        "id": "CXv44jTRREyA",
        "colab_type": "code",
        "colab": {}
      },
      "source": [
        "a = 33\n",
        "b = 20\n",
        "\n",
        "if (a > b) and (a == 33):\n",
        "  print(\"Complicated\")"
      ],
      "execution_count": 0,
      "outputs": []
    },
    {
      "cell_type": "markdown",
      "metadata": {
        "id": "_evfcoEhop0O",
        "colab_type": "text"
      },
      "source": [
        "## Example 2.2: The `break` and `continue` statements\n",
        "\n",
        "`Break` is used to break out of a `for` loop, for example when a condition is met:"
      ]
    },
    {
      "cell_type": "code",
      "metadata": {
        "id": "1vh8sg25oqC8",
        "colab_type": "code",
        "colab": {}
      },
      "source": [
        "# We only want to print up to i==5:\n",
        "\n",
        "for i in range(100):\n",
        "\n",
        "  if i > 5:\n",
        "    break\n",
        "\n",
        "  print(i)\n"
      ],
      "execution_count": 0,
      "outputs": []
    },
    {
      "cell_type": "markdown",
      "metadata": {
        "id": "9jesjSgopd5n",
        "colab_type": "text"
      },
      "source": [
        "The `continue` statment is used to skip only the remaining part of the current loop iteration:"
      ]
    },
    {
      "cell_type": "code",
      "metadata": {
        "id": "qTwJGeBTpeM0",
        "colab_type": "code",
        "colab": {}
      },
      "source": [
        "# Print odd numbers:\n",
        "\n",
        "for i in range(20):\n",
        "\n",
        "  # print(i, i%2)\n",
        "\n",
        "  # NOTE: % is the modulo operator\n",
        "  if i % 2 == 0:\n",
        "    continue\n",
        "\n",
        "  print(i)"
      ],
      "execution_count": 0,
      "outputs": []
    },
    {
      "cell_type": "markdown",
      "metadata": {
        "id": "BCr2AE0Cz1e4",
        "colab_type": "text"
      },
      "source": [
        "## Example 2.3: Defining Functions"
      ]
    },
    {
      "cell_type": "markdown",
      "metadata": {
        "id": "zJqSacfUz84v",
        "colab_type": "text"
      },
      "source": [
        "Last time we used functions from NumPy to calcualte the exponential"
      ]
    },
    {
      "cell_type": "code",
      "metadata": {
        "id": "8DtCOVaeqrvs",
        "colab_type": "code",
        "colab": {}
      },
      "source": [
        "import numpy as np\n",
        "\n",
        "e = np.exp(1.0)\n",
        "\n",
        "print(e)"
      ],
      "execution_count": 0,
      "outputs": []
    },
    {
      "cell_type": "markdown",
      "metadata": {
        "id": "Xl0AeJES0fcP",
        "colab_type": "text"
      },
      "source": [
        "We can define such functions ourself, for example\n",
        "\\begin{equation}\n",
        "f\\left(x\\right) = x^{2}\n",
        "\\end{equation}"
      ]
    },
    {
      "cell_type": "code",
      "metadata": {
        "id": "F8MzBQ4F0fqm",
        "colab_type": "code",
        "colab": {}
      },
      "source": [
        "def square(x):\n",
        "  f = x**2\n",
        "  return f"
      ],
      "execution_count": 0,
      "outputs": []
    },
    {
      "cell_type": "markdown",
      "metadata": {
        "id": "VhHhBKd90f7n",
        "colab_type": "text"
      },
      "source": [
        "Let's try our new function:"
      ]
    },
    {
      "cell_type": "code",
      "metadata": {
        "id": "T09gcyRG0gAj",
        "colab_type": "code",
        "colab": {}
      },
      "source": [
        "print(square(2))"
      ],
      "execution_count": 0,
      "outputs": []
    },
    {
      "cell_type": "markdown",
      "metadata": {
        "id": "bEfIIL06Z8zw",
        "colab_type": "text"
      },
      "source": [
        "### Demonstration: Define your own function!\n",
        "\n",
        "Can you define a function such that?\n",
        "\n",
        "\\begin{equation}\n",
        "f\\left(x\\right) = \\sum_{n=0}^{10} x^{n}\n",
        "\\end{equation}"
      ]
    },
    {
      "cell_type": "code",
      "metadata": {
        "id": "iwI-_XT-Z88t",
        "colab_type": "code",
        "colab": {}
      },
      "source": [
        "# Let's write something here!\n",
        "\n"
      ],
      "execution_count": 0,
      "outputs": []
    },
    {
      "cell_type": "markdown",
      "metadata": {
        "id": "b1mvIlThraMx",
        "colab_type": "text"
      },
      "source": [
        "#### Possible Solution:"
      ]
    },
    {
      "cell_type": "code",
      "metadata": {
        "id": "2CBJnWK4rYGm",
        "colab_type": "code",
        "colab": {}
      },
      "source": [
        "def power_sum(x):\n",
        "\n",
        "  f = 0\n",
        "\n",
        "  for n in range(11):\n",
        "    f = f + x**n\n",
        "    \n",
        "  return f\n",
        "\n",
        "print(power_sum(11))\n",
        "print(power_sum(12))"
      ],
      "execution_count": 0,
      "outputs": []
    },
    {
      "cell_type": "markdown",
      "metadata": {
        "id": "xtVmR_zjZ9DS",
        "colab_type": "text"
      },
      "source": [
        "### **Note:**\n",
        "A common error when defining functions is demonstrated here: What could be wrong??"
      ]
    },
    {
      "cell_type": "code",
      "metadata": {
        "colab_type": "code",
        "id": "EM9CFbgKb5L2",
        "colab": {}
      },
      "source": [
        "def cubed(x):\n",
        "  f = x**3\n",
        "  \n",
        "print(cubed(3))"
      ],
      "execution_count": 0,
      "outputs": []
    },
    {
      "cell_type": "markdown",
      "metadata": {
        "id": "AAzQGxUKlkt0",
        "colab_type": "text"
      },
      "source": [
        "## Code Demonstration: Heat Capacity as a function of the temperature + plotting\n",
        "\n",
        "Same example as yesterday, but today we will look at a better code and end up with a plot."
      ]
    },
    {
      "cell_type": "markdown",
      "metadata": {
        "id": "lw8gy7VBlkwy",
        "colab_type": "text"
      },
      "source": [
        "![alt text](https://ars.els-cdn.com/content/image/3-s2.0-B9780125031639500114-f10-04-9780125031639.gif?_)\n",
        "\n",
        "\n",
        "The energy $\\epsilon_n$ for a state of the harmonic oscillator is given by\n",
        "\\begin{equation}\n",
        "\\epsilon_n = n+\\frac{1}{2},\n",
        "\\end{equation}\n",
        "in units of $\\hbar\\omega$. We also assume that there are no degenerate states!\n",
        "\n",
        "The probability for observing the state $n$ at a given temperature $\\tau$ is given by:\n",
        "\\begin{equation}\n",
        "p(n) = \\frac{\\exp{\\left(-\\epsilon_n / \\tau \\right)}}{Z},\n",
        "\\end{equation}\n",
        "\n",
        "where $Z$ is the partition function (*Zustandssumme*)\n",
        "\\begin{equation}\n",
        "Z = \\sum_{n=0}^{\\infty} \\exp{\\left(-\\epsilon_n / \\tau\\right)}.\n",
        "\\end{equation}\n",
        "\n",
        "The total *internal* energy $U$ is then given by:\n",
        "\\begin{equation}\n",
        "U = \\langle \\epsilon \\rangle = \\sum_n \\epsilon_n p(n)\n",
        "\\end{equation}\n",
        "\n",
        "---\n",
        "\n",
        "Another interesting property of this system is the *heat capactity* $C_V$ given by\n",
        "\\begin{align}\n",
        "C_V &= \\frac{\\partial U}{\\partial \\tau} \\biggl|_V \\\\\n",
        "&= \\frac{\\langle \\epsilon^2 \\rangle - \\langle \\epsilon \\rangle^2}{\\tau^2}.\n",
        "\\end{align}\n",
        "\n",
        "\n",
        "The expectation value $\\langle \\epsilon \\rangle$ is given via the energy $U$:\n",
        "\\begin{align}\n",
        "\\langle \\epsilon \\rangle &= \\sum_n \\epsilon_n p(n) \\\\\n",
        "&= \\sum_n \\left(n+\\frac{1}{2}\\right) p(n)\n",
        "\\end{align}\n",
        "\n",
        "And $\\langle \\epsilon^2 \\rangle$ is the second moment of the energy given by:\n",
        "\\begin{align}\n",
        "\\langle \\epsilon^2 \\rangle &= \\sum_n \\epsilon^2_n p(n) \\\\\n",
        "&= \\sum_n \\left(n+\\frac{1}{2}\\right)^2 p(n)\n",
        "\\end{align}\n"
      ]
    },
    {
      "cell_type": "markdown",
      "metadata": {
        "id": "SbXtn-KVx0Zi",
        "colab_type": "text"
      },
      "source": [
        "#### Ugly code from last time:\n",
        "\n",
        "\n"
      ]
    },
    {
      "cell_type": "code",
      "metadata": {
        "id": "FZW86wefyE3Z",
        "colab_type": "code",
        "colab": {}
      },
      "source": [
        "# 7 temperatures\n",
        "temperatures = [0.1, 0.5, 1.0, 1.5, 2.0, 2.5, 3.0]\n",
        "n_states = 1000\n",
        "\n",
        "for tau in temperatures:\n",
        "\n",
        "  # Calculate the partition function for tau\n",
        "  Z = 0.0\n",
        "  for n in range(n_states+1):\n",
        "    Z = Z + np.exp(-(n + 0.5) / tau)\n",
        "\n",
        "  # First moment of the energy\n",
        "  U = 0.0\n",
        "\n",
        "  # Second moment of the energy\n",
        "  U2 = 0.0\n",
        "\n",
        "  for n in range(n_states+1):\n",
        "  \n",
        "    epsilon = n + 0.5\n",
        "    prob = np.exp(-epsilon/tau) / Z\n",
        "  \n",
        "    U = U + epsilon * prob\n",
        "    U2 = U2 + epsilon**2 * prob\n",
        "  \n",
        "  Cv = (U2 - U**2) / tau\n",
        "\n",
        "  print(tau, Cv)"
      ],
      "execution_count": 0,
      "outputs": []
    },
    {
      "cell_type": "markdown",
      "metadata": {
        "id": "wlSV9P976OB3",
        "colab_type": "text"
      },
      "source": [
        "### Example 1: Print the energy $\\epsilon_n$ for each state up to $n=3$?\n",
        "\n",
        "The energy $\\epsilon_n$ for a state of the harmonic oscillator is given by:\n",
        "\\begin{equation}\n",
        "\\epsilon_n = n+\\frac{1}{2}\n",
        "\\end{equation}\n",
        "\n",
        "Last time:\n",
        "```\n",
        "for n in range(3+1):\n",
        "\n",
        "  epsilon = n + 0.5\n",
        "\n",
        "  print(n, epsilon)\n",
        "```\n",
        "Now, lets write a function for this:"
      ]
    },
    {
      "cell_type": "code",
      "metadata": {
        "id": "UDp6eRJlM3tM",
        "colab_type": "code",
        "outputId": "0b431b00-401e-4b90-b53f-eb379e3ae796",
        "colab": {
          "base_uri": "https://localhost:8080/",
          "height": 35
        }
      },
      "source": [
        "# Energy for n'th state\n",
        "def epsilon(n):\n",
        "  e = n+0.5\n",
        "  return e\n",
        "\n",
        "print(epsilon(1))"
      ],
      "execution_count": 0,
      "outputs": [
        {
          "output_type": "stream",
          "text": [
            "1.5\n"
          ],
          "name": "stdout"
        }
      ]
    },
    {
      "cell_type": "markdown",
      "metadata": {
        "id": "20FBPuBZNgVr",
        "colab_type": "text"
      },
      "source": [
        "#### Example 2: What is the partition function $Z$ \n",
        "\n",
        "for $\\tau$ = 2.0?\n",
        "\n",
        "Recall that the partition function is given by:\n",
        "\n",
        "\\begin{equation}\n",
        "Z(\\tau) = \\sum_{n=0}^{\\infty} \\exp{\\left(-\\frac{\\epsilon_n}{\\tau}\\right)}\n",
        "\\end{equation}\n",
        "\n",
        "\n",
        "Yesterday:\n",
        "```\n",
        "tau = 2.0\n",
        "Z = 0.0\n",
        "\n",
        "for n in range(10000):\n",
        "  \n",
        "  Z = Z + np.exp(-(n + 0.5) / tau)\n",
        "```\n",
        "\n"
      ]
    },
    {
      "cell_type": "code",
      "metadata": {
        "id": "D5_s6msdQznZ",
        "colab_type": "code",
        "colab": {}
      },
      "source": [
        "# Import exponential function\n",
        "import numpy as np\n",
        "\n",
        "# Partition function at temperature Tau\n",
        "def partition(tau):\n",
        "  Z = 0\n",
        "\n",
        "  for n in range(100):\n",
        "\n",
        "      # Code from last time\n",
        "      # Z = Z + np.exp(-(n + 0.5) / tau)\n",
        "      \n",
        "      Z = Z + np.exp(-epsilon(n) / tau)\n",
        "\n",
        "  return Z\n",
        "\n"
      ],
      "execution_count": 0,
      "outputs": []
    },
    {
      "cell_type": "code",
      "metadata": {
        "id": "UYU0t7JkzJaW",
        "colab_type": "code",
        "colab": {}
      },
      "source": [
        "Z_2 = partition(2.0)\n",
        "\n",
        "print(Z_2)"
      ],
      "execution_count": 0,
      "outputs": []
    },
    {
      "cell_type": "markdown",
      "metadata": {
        "id": "E6BKsyy6ZZXP",
        "colab_type": "text"
      },
      "source": [
        "**Question:** When should we stop the loop??\n",
        "*    Can we use `break`?"
      ]
    },
    {
      "cell_type": "markdown",
      "metadata": {
        "id": "sy2r64p6QCRG",
        "colab_type": "text"
      },
      "source": [
        "#### Example 3: What is the internal energy $U$ for $\\tau$ = 2.0?\n",
        "\n",
        "\\begin{align}\n",
        "\\langle \\epsilon \\rangle &= \\sum_n \\epsilon_n p(n) \\\\\n",
        "\\langle \\epsilon^2 \\rangle &= \\sum_n \\epsilon_n^2 p(n)\n",
        "\\end{align}\n",
        "\n",
        "Also recall that:\n",
        "\n",
        "\\begin{equation}\n",
        "p(n, \\tau) = \\frac{\\exp{\\left(-\\epsilon_n / \\tau \\right)}}{Z(\\tau)},\n",
        "\\end{equation}\n"
      ]
    },
    {
      "cell_type": "code",
      "metadata": {
        "id": "tKJIJlQpgjPo",
        "colab_type": "code",
        "colab": {}
      },
      "source": [
        "# Probability for n'th state at temperature Tau\n",
        "def prob(n, tau):\n",
        "\n",
        "  Z = partition(tau)\n",
        "\n",
        "  p = np.exp(-epsilon(n) / tau) / Z\n",
        "\n",
        "  return p\n",
        "\n",
        "\n",
        "print( prob(0, 2.0) )\n",
        "print( prob(1, 2.0) )\n",
        "print( prob(4, 2.0) )\n",
        "print( prob(100, 2.0) )"
      ],
      "execution_count": 0,
      "outputs": []
    },
    {
      "cell_type": "code",
      "metadata": {
        "id": "PFLbdbOoutp1",
        "colab_type": "code",
        "colab": {}
      },
      "source": [
        "# Internal energy at temperature Tau\n",
        "def internal_energy(tau):\n",
        "\n",
        "  u = 0\n",
        "\n",
        "  for n in range(100):\n",
        "    u = u + epsilon(n) * prob(n, tau)\n",
        "  \n",
        "  return u\n",
        "\n",
        "\n",
        "# Second moment of the energy at temperature Tau\n",
        "def second_moment(tau):\n",
        "\n",
        "  u2 = 0\n",
        "\n",
        "  for n in range(100):\n",
        "    u2 = u2 + epsilon(n)**2 * prob(n, tau)\n",
        "  \n",
        "  return u2\n",
        "\n",
        "\n",
        "print( internal_energy(2.0))\n",
        "print( second_moment(2.0))\n"
      ],
      "execution_count": 0,
      "outputs": []
    },
    {
      "cell_type": "markdown",
      "metadata": {
        "id": "vvAj5YMR3JAI",
        "colab_type": "text"
      },
      "source": [
        "### Example 4: The Heat capacity as a function of $\\tau$\n",
        "\n",
        "Definition of heat capacity $C_V$:\n",
        "\\begin{equation}\n",
        "C_V = \\frac{\\langle \\epsilon^2 \\rangle - \\langle \\epsilon \\rangle^2}{\\tau^2}.\n",
        "\\end{equation}\n"
      ]
    },
    {
      "cell_type": "code",
      "metadata": {
        "id": "9v6YtHdN3fNy",
        "colab_type": "code",
        "colab": {}
      },
      "source": [
        "def heat_capacity(tau):\n",
        "\n",
        "  u = internal_energy(tau)\n",
        "  u2 = second_moment(tau)\n",
        "\n",
        "  cv = (u2 - u**2) / tau**2\n",
        "\n",
        "  return cv\n",
        "\n",
        "print(heat_capacity(2.0))"
      ],
      "execution_count": 0,
      "outputs": []
    },
    {
      "cell_type": "markdown",
      "metadata": {
        "id": "mtdDWKqhq5KM",
        "colab_type": "text"
      },
      "source": [
        "Finally print $C_V$ for every $\\tau$:"
      ]
    },
    {
      "cell_type": "code",
      "metadata": {
        "id": "ihYzLLcd4f5C",
        "colab_type": "code",
        "colab": {}
      },
      "source": [
        "temperatures = [0.1, 0.5, 1.0, 1.5, 2.0, 2.5, 3.0, 4.0, 5.0]\n",
        "\n",
        "for tau in temperatures:\n",
        "\n",
        "  cv = heat_capacity(tau)\n",
        "  print(tau, cv)\n"
      ],
      "execution_count": 0,
      "outputs": []
    },
    {
      "cell_type": "markdown",
      "metadata": {
        "id": "jQntyOcJqFf7",
        "colab_type": "text"
      },
      "source": [
        "## Plotting everything with Pyplot/Matplotlib"
      ]
    },
    {
      "cell_type": "markdown",
      "metadata": {
        "id": "D2uIpDpQ5WKl",
        "colab_type": "text"
      },
      "source": [
        "First, how do we save the results in a list?"
      ]
    },
    {
      "cell_type": "code",
      "metadata": {
        "id": "R8J9FiQi4-_U",
        "colab_type": "code",
        "colab": {}
      },
      "source": [
        "temperatures = [0.01, 0.1, 0.2, 0.3, 0.4, 0.5, 0.6, 0.7, 0.8, 0.9, 1.0, 2.0, 3.0]\n",
        "\n",
        "# Initialize an empty list\n",
        "heat_capacities = []\n",
        "\n",
        "for tau in temperatures:\n",
        "\n",
        "  # calculate Cv\n",
        "  cv = heat_capacity(tau)\n",
        "\n",
        "  # Add Cv to the list!\n",
        "  heat_capacities.append(cv)\n",
        "\n",
        "\n",
        "print(heat_capacities)\n"
      ],
      "execution_count": 0,
      "outputs": []
    },
    {
      "cell_type": "markdown",
      "metadata": {
        "id": "lpzDeXYN5ayx",
        "colab_type": "text"
      },
      "source": [
        "To plot a graph, we can use \"pyplot\" from matplotlib:"
      ]
    },
    {
      "cell_type": "code",
      "metadata": {
        "id": "hRSxNoa_rBNE",
        "colab_type": "code",
        "colab": {}
      },
      "source": [
        "import matplotlib.pyplot as plt\n",
        "\n",
        "# Construct the plot\n",
        "plt.plot(temperatures, heat_capacities)\n",
        "\n",
        "# Draw the plot\n",
        "plt.show()"
      ],
      "execution_count": 0,
      "outputs": []
    },
    {
      "cell_type": "markdown",
      "metadata": {
        "id": "OV2Illlf68eB",
        "colab_type": "text"
      },
      "source": [
        "Matplotlib has tons of options for customization, for example labels, titles, etc.\n",
        "\n",
        "Take a look at the matplotlib gallery: https://matplotlib.org/gallery.html"
      ]
    },
    {
      "cell_type": "code",
      "metadata": {
        "id": "PiKeq1_x68mT",
        "colab_type": "code",
        "colab": {}
      },
      "source": [
        "# Figure size in inches\n",
        "plt.figure(figsize=(8, 8))\n",
        "\n",
        "# Add labels to axes\n",
        "plt.xlabel(\"Tau\")\n",
        "plt.ylabel(\"Heat Capacity\")\n",
        "\n",
        "# Set a descriptive title\n",
        "plt.title(\"Quantum Harmonic Oscillator\")\n",
        "\n",
        "# Display a grid\n",
        "plt.grid(True)\n",
        "\n",
        "plt.plot(temperatures, heat_capacities)\n",
        "plt.show()"
      ],
      "execution_count": 0,
      "outputs": []
    }
  ]
}